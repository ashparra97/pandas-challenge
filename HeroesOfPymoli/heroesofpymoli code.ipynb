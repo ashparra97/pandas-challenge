{
 "metadata": {
  "language_info": {
   "codemirror_mode": {
    "name": "ipython",
    "version": 3
   },
   "file_extension": ".py",
   "mimetype": "text/x-python",
   "name": "python",
   "nbconvert_exporter": "python",
   "pygments_lexer": "ipython3",
   "version": "3.8.5"
  },
  "orig_nbformat": 2,
  "kernelspec": {
   "name": "python385jvsc74a57bd0dca0ade3e726a953b501b15e8e990130d2b7799f14cfd9f4271676035ebe5511",
   "display_name": "Python 3.8.5 64-bit ('base': conda)"
  }
 },
 "nbformat": 4,
 "nbformat_minor": 2,
 "cells": [
  {
   "cell_type": "code",
   "execution_count": null,
   "metadata": {},
   "outputs": [],
   "source": [
    "#import library \n",
    "import pandas as pd "
   ]
  },
  {
   "cell_type": "code",
   "execution_count": null,
   "metadata": {},
   "outputs": [],
   "source": [
    "#indicate which csv to analyze\n",
    "csv_file = \"/Users/ashleypatricia/Documents/GitHub/pandas-challenge/HeroesOfPymoli/HeroesOfPymoli_purchase_data.csv\"\n",
    "#tell code to read this csv\n",
    "data_df = pd.read_csv(csv_file)\n",
    "data_df.head()"
   ]
  },
  {
   "cell_type": "code",
   "execution_count": null,
   "metadata": {},
   "outputs": [],
   "source": [
    "#column names \n",
    "data_df.columns"
   ]
  },
  {
   "source": [
    "## Player Count\n",
    "\n",
    "* Total Number of Players"
   ],
   "cell_type": "markdown",
   "metadata": {}
  },
  {
   "cell_type": "code",
   "execution_count": null,
   "metadata": {},
   "outputs": [],
   "source": [
    "#Total Number of Unique Players\n",
    "uniqueplayers = data_df[\"SN\"].unique()\n",
    "len(uniqueplayers)"
   ]
  },
  {
   "source": [
    "## Purchasing Analysis (Total)\n",
    "\n",
    "* Number of Unique Items\n",
    "* Average Purchase Price\n",
    "* Total Number of Purchases\n",
    "* Total Revenue"
   ],
   "cell_type": "markdown",
   "metadata": {}
  },
  {
   "cell_type": "code",
   "execution_count": null,
   "metadata": {},
   "outputs": [],
   "source": [
    "#Number of Unique Items\n",
    "uniqueitems = data_df[\"Item ID\"].unique()\n",
    "len(uniqueitems)\n",
    "#Average Purchase Price\n",
    "avgprice = data_df[\"Price\"].mean()\n",
    "avgprice\n",
    "#Total Number of Purchases\n",
    "purchases = data_df[[\"Purchase ID\"]].count()\n",
    "#Total Revenue\n",
    "totalrevenue = data_df[\"Price\"].sum()\n",
    "totalrevenue\n",
    "\n",
    "###PRINT TABLE HERE \n",
    "generaldata_df = pd.DataFrame({\"Number of Unique Items\": len(uniqueitems), \"Average Purchase Price\": avgprice, \"Total Number of Purchases\": purchases, \"Total Revenue\": totalrevenue})\n",
    "generaldata_df[\"Average Purchase Price\"] = generaldata_df[\"Average Purchase Price\"].map(\"${: .2f}\".format)\n",
    "generaldata_df[\"Total Revenue\"] = generaldata_df[\"Total Revenue\"].map(\"${: .2f}\".format)\n",
    "generaldata_df\n",
    "\n",
    "\n"
   ]
  },
  {
   "source": [
    "## Gender Demographics\n",
    "\n",
    "* Percentage and Count of Male Players\n",
    "* Percentage and Count of Female Players\n",
    "* Percentage and Count of Other / Non-Disclosed"
   ],
   "cell_type": "markdown",
   "metadata": {}
  },
  {
   "cell_type": "code",
   "execution_count": null,
   "metadata": {},
   "outputs": [],
   "source": [
    "#Clean up data with duplicates \n",
    "eraseduplicates_df = data_df.drop_duplicates(subset=\"SN\")\n",
    "gender_count = eraseduplicates_df.value_counts(\"Gender\")\n",
    "gender_count\n",
    "\n",
    "#Count of Male Players\n",
    "male = gender_count[0]\n",
    "#Count of Female Players\n",
    "female = gender_count[1]\n",
    "#Count of Non-Disclosed Players\n",
    "non_disclosed = gender_count[2]\n",
    "\n",
    "#Percentage of Male Players \n",
    "percentmale = (male / (male + female + non_disclosed))\n",
    "#Percentage of Female Players \n",
    "percentfemale = (female / (male + female + non_disclosed))\n",
    "#Percentage of Non-Disclosed Players \n",
    "percentND = (non_disclosed / (male + female + non_disclosed))\n",
    "\n",
    "#new dataframe for table\n",
    "percentages = [percentmale, percentfemale, percentND]\n",
    "genderdata_df = pd.DataFrame({\"Gender Counts\": gender_count, \"Percentages\": percentages})\n",
    "genderdata_df[\"Percentages\"] = genderdata_df[\"Percentages\"].map(\"{:.0%}\".format)\n",
    "genderdata_df\n",
    "\n",
    "##FIX ROUNDING ON PERCENTAGES HERE \n"
   ]
  },
  {
   "source": [
    "## Purchasing Analysis (Gender)\n",
    "\n",
    "### The below each broken by gender\n",
    "\n",
    "* Purchase Count\n",
    "* Average Purchase Price\n",
    "* Total Purchase Value\n",
    "* Average Purchase Total per Person by Gender"
   ],
   "cell_type": "markdown",
   "metadata": {}
  },
  {
   "cell_type": "code",
   "execution_count": null,
   "metadata": {},
   "outputs": [],
   "source": [
    "\n",
    "#Purchase Count by Gender\n",
    "gender_info = data_df.value_counts(\"Gender\")\n",
    "gender_info\n",
    "\n",
    "#Avg Purchase Price for Males\n",
    "avgmalepurchases = (round(data_df.loc[data_df[\"Gender\"] == \"Male\", \"Price\"].sum() / gender_info[\"Male\"], 2))\n",
    "avgmalepurchases\n",
    "#Avg Purchace Price for Females\n",
    "avgfemalepurchases = (round(data_df.loc[data_df[\"Gender\"] == \"Female\", \"Price\"].sum() / gender_info[\"Female\"], 2))\n",
    "avgfemalepurchases\n",
    "#Avg Purchace Price for Non-Disclosed\n",
    "avgNDpurchases = (round(data_df.loc[data_df[\"Gender\"] == \"Other / Non-Disclosed\", \"Price\"].sum() / gender_info[\"Other / Non-Disclosed\"], 2))\n",
    "avgNDpurchases\n",
    "\n",
    "#Total Purchase Value for Males \n",
    "totalmalePV = data_df.loc[data_df[\"Gender\"] == \"Male\", \"Price\"].sum()\n",
    "#Total Purchase Value for Females \n",
    "totalfemalePV = data_df.loc[data_df[\"Gender\"] == \"Female\", \"Price\"].sum()\n",
    "#Total Purchase Value for Non-Disclosed\n",
    "totalNDPV = data_df.loc[data_df[\"Gender\"] == \"Other / Non-Disclosed\", \"Price\"].sum()\n",
    "\n",
    "\n",
    "#Average Purchase Total per Person by Males\n",
    "avgmaleTotal = (round(totalmalePV / gender_count[0], 2))\n",
    "#Average Purchase Total per Person by Females\n",
    "avgfemaleTotal = (round(totalfemalePV / gender_count[1], 2))\n",
    "#Average Purchase Total per Person by Non-Disclosed\n",
    "avgnon_disclosedTotal = (round(totalNDPV / gender_count[2], 2))\n",
    "\n",
    "\n",
    "#new summary dataframe for table \n",
    "avgpurchases = [avgmalepurchases, avgfemalepurchases, avgNDpurchases]\n",
    "totalPV = [totalmalePV, totalfemalePV, totalNDPV]\n",
    "avgpurchasetotal = [avgmaleTotal, avgfemaleTotal, avgnon_disclosedTotal]\n",
    "totaldata_df = pd.DataFrame({\"Purchase Count\": gender_info, \"Average Purchase Price\": avgpurchases, \"Total Purchase Value\": totalPV, \"Avg Total Purchase per Person\": avgpurchasetotal})\n",
    "totaldata_df[\"Average Purchase Price\"] = totaldata_df[\"Average Purchase Price\"].map(\"${: .2f}\".format)\n",
    "totaldata_df[\"Total Purchase Value\"] = totaldata_df[\"Total Purchase Value\"].map(\"${: .2f}\".format)\n",
    "totaldata_df[\"Avg Total Purchase per Person\"] = totaldata_df[\"Avg Total Purchase per Person\"].map(\"${: .2f}\".format)\n",
    "totaldata_df"
   ]
  },
  {
   "source": [
    "## Age Demographics\n",
    "\n",
    "### The below each broken into bins of 4 years (i.e. <10, 10-14, 15-19, etc.)\n",
    "\n",
    "* Purchase Count\n",
    "* Average Purchase Price\n",
    "* Total Purchase Value\n",
    "* Average Purchase Total per Person by Age Group"
   ],
   "cell_type": "markdown",
   "metadata": {}
  },
  {
   "cell_type": "code",
   "execution_count": 48,
   "metadata": {},
   "outputs": [
    {
     "output_type": "error",
     "ename": "KeyError",
     "evalue": "'Age Groups'",
     "traceback": [
      "\u001b[0;31m---------------------------------------------------------------------------\u001b[0m",
      "\u001b[0;31mKeyError\u001b[0m                                  Traceback (most recent call last)",
      "\u001b[0;32m/opt/anaconda3/lib/python3.8/site-packages/pandas/core/indexes/base.py\u001b[0m in \u001b[0;36mget_loc\u001b[0;34m(self, key, method, tolerance)\u001b[0m\n\u001b[1;32m   2894\u001b[0m             \u001b[0;32mtry\u001b[0m\u001b[0;34m:\u001b[0m\u001b[0;34m\u001b[0m\u001b[0;34m\u001b[0m\u001b[0m\n\u001b[0;32m-> 2895\u001b[0;31m                 \u001b[0;32mreturn\u001b[0m \u001b[0mself\u001b[0m\u001b[0;34m.\u001b[0m\u001b[0m_engine\u001b[0m\u001b[0;34m.\u001b[0m\u001b[0mget_loc\u001b[0m\u001b[0;34m(\u001b[0m\u001b[0mcasted_key\u001b[0m\u001b[0;34m)\u001b[0m\u001b[0;34m\u001b[0m\u001b[0;34m\u001b[0m\u001b[0m\n\u001b[0m\u001b[1;32m   2896\u001b[0m             \u001b[0;32mexcept\u001b[0m \u001b[0mKeyError\u001b[0m \u001b[0;32mas\u001b[0m \u001b[0merr\u001b[0m\u001b[0;34m:\u001b[0m\u001b[0;34m\u001b[0m\u001b[0;34m\u001b[0m\u001b[0m\n",
      "\u001b[0;32mpandas/_libs/index.pyx\u001b[0m in \u001b[0;36mpandas._libs.index.IndexEngine.get_loc\u001b[0;34m()\u001b[0m\n",
      "\u001b[0;32mpandas/_libs/index.pyx\u001b[0m in \u001b[0;36mpandas._libs.index.IndexEngine.get_loc\u001b[0;34m()\u001b[0m\n",
      "\u001b[0;32mpandas/_libs/hashtable_class_helper.pxi\u001b[0m in \u001b[0;36mpandas._libs.hashtable.PyObjectHashTable.get_item\u001b[0;34m()\u001b[0m\n",
      "\u001b[0;32mpandas/_libs/hashtable_class_helper.pxi\u001b[0m in \u001b[0;36mpandas._libs.hashtable.PyObjectHashTable.get_item\u001b[0;34m()\u001b[0m\n",
      "\u001b[0;31mKeyError\u001b[0m: 'Age Groups'",
      "\nThe above exception was the direct cause of the following exception:\n",
      "\u001b[0;31mKeyError\u001b[0m                                  Traceback (most recent call last)",
      "\u001b[0;32m<ipython-input-48-0a91a0ed6b9c>\u001b[0m in \u001b[0;36m<module>\u001b[0;34m\u001b[0m\n\u001b[1;32m     17\u001b[0m \u001b[0;34m\u001b[0m\u001b[0m\n\u001b[1;32m     18\u001b[0m \u001b[0;31m#Percentage of Players by Age Group\u001b[0m\u001b[0;34m\u001b[0m\u001b[0;34m\u001b[0m\u001b[0;34m\u001b[0m\u001b[0m\n\u001b[0;32m---> 19\u001b[0;31m \u001b[0magepercent1\u001b[0m \u001b[0;34m=\u001b[0m \u001b[0mnodup2_df\u001b[0m\u001b[0;34m.\u001b[0m\u001b[0mloc\u001b[0m\u001b[0;34m[\u001b[0m\u001b[0mdata_df\u001b[0m\u001b[0;34m[\u001b[0m\u001b[0;34m\"Age Groups\"\u001b[0m\u001b[0;34m]\u001b[0m \u001b[0;34m==\u001b[0m \u001b[0;34m\"<10\"\u001b[0m\u001b[0;34m]\u001b[0m\u001b[0;34m.\u001b[0m\u001b[0mvalue_counts\u001b[0m \u001b[0;34m/\u001b[0m \u001b[0mnodup2_df\u001b[0m\u001b[0;34m.\u001b[0m\u001b[0mvalue_counts\u001b[0m\u001b[0;34m(\u001b[0m\u001b[0;34m)\u001b[0m\u001b[0;34m\u001b[0m\u001b[0;34m\u001b[0m\u001b[0m\n\u001b[0m\u001b[1;32m     20\u001b[0m \u001b[0magepercent1\u001b[0m\u001b[0;34m\u001b[0m\u001b[0;34m\u001b[0m\u001b[0m\n\u001b[1;32m     21\u001b[0m \u001b[0;34m\u001b[0m\u001b[0m\n",
      "\u001b[0;32m/opt/anaconda3/lib/python3.8/site-packages/pandas/core/frame.py\u001b[0m in \u001b[0;36m__getitem__\u001b[0;34m(self, key)\u001b[0m\n\u001b[1;32m   2900\u001b[0m             \u001b[0;32mif\u001b[0m \u001b[0mself\u001b[0m\u001b[0;34m.\u001b[0m\u001b[0mcolumns\u001b[0m\u001b[0;34m.\u001b[0m\u001b[0mnlevels\u001b[0m \u001b[0;34m>\u001b[0m \u001b[0;36m1\u001b[0m\u001b[0;34m:\u001b[0m\u001b[0;34m\u001b[0m\u001b[0;34m\u001b[0m\u001b[0m\n\u001b[1;32m   2901\u001b[0m                 \u001b[0;32mreturn\u001b[0m \u001b[0mself\u001b[0m\u001b[0;34m.\u001b[0m\u001b[0m_getitem_multilevel\u001b[0m\u001b[0;34m(\u001b[0m\u001b[0mkey\u001b[0m\u001b[0;34m)\u001b[0m\u001b[0;34m\u001b[0m\u001b[0;34m\u001b[0m\u001b[0m\n\u001b[0;32m-> 2902\u001b[0;31m             \u001b[0mindexer\u001b[0m \u001b[0;34m=\u001b[0m \u001b[0mself\u001b[0m\u001b[0;34m.\u001b[0m\u001b[0mcolumns\u001b[0m\u001b[0;34m.\u001b[0m\u001b[0mget_loc\u001b[0m\u001b[0;34m(\u001b[0m\u001b[0mkey\u001b[0m\u001b[0;34m)\u001b[0m\u001b[0;34m\u001b[0m\u001b[0;34m\u001b[0m\u001b[0m\n\u001b[0m\u001b[1;32m   2903\u001b[0m             \u001b[0;32mif\u001b[0m \u001b[0mis_integer\u001b[0m\u001b[0;34m(\u001b[0m\u001b[0mindexer\u001b[0m\u001b[0;34m)\u001b[0m\u001b[0;34m:\u001b[0m\u001b[0;34m\u001b[0m\u001b[0;34m\u001b[0m\u001b[0m\n\u001b[1;32m   2904\u001b[0m                 \u001b[0mindexer\u001b[0m \u001b[0;34m=\u001b[0m \u001b[0;34m[\u001b[0m\u001b[0mindexer\u001b[0m\u001b[0;34m]\u001b[0m\u001b[0;34m\u001b[0m\u001b[0;34m\u001b[0m\u001b[0m\n",
      "\u001b[0;32m/opt/anaconda3/lib/python3.8/site-packages/pandas/core/indexes/base.py\u001b[0m in \u001b[0;36mget_loc\u001b[0;34m(self, key, method, tolerance)\u001b[0m\n\u001b[1;32m   2895\u001b[0m                 \u001b[0;32mreturn\u001b[0m \u001b[0mself\u001b[0m\u001b[0;34m.\u001b[0m\u001b[0m_engine\u001b[0m\u001b[0;34m.\u001b[0m\u001b[0mget_loc\u001b[0m\u001b[0;34m(\u001b[0m\u001b[0mcasted_key\u001b[0m\u001b[0;34m)\u001b[0m\u001b[0;34m\u001b[0m\u001b[0;34m\u001b[0m\u001b[0m\n\u001b[1;32m   2896\u001b[0m             \u001b[0;32mexcept\u001b[0m \u001b[0mKeyError\u001b[0m \u001b[0;32mas\u001b[0m \u001b[0merr\u001b[0m\u001b[0;34m:\u001b[0m\u001b[0;34m\u001b[0m\u001b[0;34m\u001b[0m\u001b[0m\n\u001b[0;32m-> 2897\u001b[0;31m                 \u001b[0;32mraise\u001b[0m \u001b[0mKeyError\u001b[0m\u001b[0;34m(\u001b[0m\u001b[0mkey\u001b[0m\u001b[0;34m)\u001b[0m \u001b[0;32mfrom\u001b[0m \u001b[0merr\u001b[0m\u001b[0;34m\u001b[0m\u001b[0;34m\u001b[0m\u001b[0m\n\u001b[0m\u001b[1;32m   2898\u001b[0m \u001b[0;34m\u001b[0m\u001b[0m\n\u001b[1;32m   2899\u001b[0m         \u001b[0;32mif\u001b[0m \u001b[0mtolerance\u001b[0m \u001b[0;32mis\u001b[0m \u001b[0;32mnot\u001b[0m \u001b[0;32mNone\u001b[0m\u001b[0;34m:\u001b[0m\u001b[0;34m\u001b[0m\u001b[0;34m\u001b[0m\u001b[0m\n",
      "\u001b[0;31mKeyError\u001b[0m: 'Age Groups'"
     ]
    }
   ],
   "source": [
    "#create bins for ages \n",
    "bins = [0, 9, 14, 19, 24, 29, 34, 39, 100]\n",
    "\n",
    "#create labels for each bin \n",
    "grouplabels = [\"<10\", \"10-14\", \"15-19\", \"20-24\", \"25-29\", \"30-34\", \"35-39\", \"40+\"]\n",
    "\n",
    "#use dataframe without duplicates and slice data \n",
    "nodup_df = data_df.drop_duplicates(subset=\"SN\")\n",
    "nodup = pd.cut(nodup_df[\"Age\"], bins, labels=grouplabels)\n",
    "nodup.value_counts()\n",
    "\n",
    "#new dataframe\n",
    "nodup2_df = pd.DataFrame({\"Age Groups\": nodup.value_counts()})\n",
    "nodup2_df.sort_index()\n",
    "\n",
    "\n",
    "\n",
    "#Percentage of Players by Age Group\n",
    "agepercent1 = nodup2_df.loc[data_df[\"Age Groups\"] == \"<10\"].value_counts / nodup2_df.value_counts()\n",
    "agepercent1\n",
    "\n",
    "\n",
    "\n",
    "\n"
   ]
  },
  {
   "cell_type": "code",
   "execution_count": null,
   "metadata": {},
   "outputs": [],
   "source": [
    "#Bin the purchase data frame by age\n",
    "\n",
    "#Purchase count\n",
    "\n",
    "#Average purchase prices by age group\n",
    "#Avg Purchase Price for <10\n",
    "avgpurchase1 = (round(eraseduplicates_df.loc[data_df[\"AgeDemo\"] == \"<10\", \"Price\"].sum() / agecounts[\"<10\"], 2))\n",
    "#Avg Purchase Price for 10-14\n",
    "avgpurchase2 = (round(eraseduplicates_df.loc[data_df[\"AgeDemo\"] == \"10-14\", \"Price\"].sum() / agecounts[\"10-14\"], 2))\n",
    "#Avg Purchase Price for 15-19\n",
    "avgpurchase3 = (round(eraseduplicates_df.loc[data_df[\"AgeDemo\"] == \"15-19\", \"Price\"].sum() / agecounts[\"15-19\"], 2))\n",
    "#Avg Purchase Price for 20-24\n",
    "avgpurchase4 = (round(eraseduplicates_df.loc[data_df[\"AgeDemo\"] == \"20-24\", \"Price\"].sum() / agecounts[\"20-24\"], 2))\n",
    "#Avg Purchase Price for 25-29\n",
    "avgpurchase5 = (round(eraseduplicates_df.loc[data_df[\"AgeDemo\"] == \"25-29\", \"Price\"].sum() / agecounts[\"25-29\"], 2))\n",
    "#Avg Purchase Price for 30-34\n",
    "avgpurchase6 = (round(eraseduplicates_df.loc[data_df[\"AgeDemo\"] == \"30-34\", \"Price\"].sum() / agecounts[\"30-34\"], 2))\n",
    "#Avg Purchase Price for 40+\n",
    "avgpurchase7 = (round(eraseduplicates_df.loc[data_df[\"AgeDemo\"] == \"40+\", \"Price\"].sum() / agecounts[\"40+\"], 2))\n",
    "avgpurchase7\n",
    "\n",
    "#Total Purchase Value\n",
    "#Average Purchase Total per Person by Age Group\n",
    "\n",
    "#new summary dataframe for table \n",
    "avgageplayers = [avgpurchase1, avgpurchase2, avgpurchase3, avgpurchase4, avgpurchase5, avgpurchase6, avgpurchase7]\n",
    "agedata1_df = pd.DataFrame({\"Total Count\": agecounts, \"Percentage of Players\": avgageplayers})\n",
    "avedata1_df\n",
    "\n"
   ]
  },
  {
   "source": [
    "## Top Spenders\n",
    "\n",
    "### Identify the the top 5 spenders in the game by total purchase value, then list (in a table):\n",
    "\n",
    "* SN\n",
    "* Purchase Count\n",
    "* Average Purchase Price\n",
    "* Total Purchase Value"
   ],
   "cell_type": "markdown",
   "metadata": {}
  },
  {
   "cell_type": "code",
   "execution_count": null,
   "metadata": {},
   "outputs": [],
   "source": [
    "#Run basic calculations to obtain the results in the table below\n",
    "\n",
    "#Create a summary data frame to hold the results\n",
    "\n",
    "#Sort the total purchase value column in descending order\n",
    "\n",
    "#Optional: give the displayed data cleaner formatting\n",
    "\n",
    "#Display a preview of the summary data frame"
   ]
  },
  {
   "source": [
    "## Most Popular Items\n",
    "\n",
    "### Identify the 5 most popular items by purchase count, then list (in a table):\n",
    "\n",
    "* Item ID\n",
    "* Item Name\n",
    "* Purchase Count\n",
    "* Item Price\n",
    "* Total Purchase Value"
   ],
   "cell_type": "markdown",
   "metadata": {}
  },
  {
   "cell_type": "code",
   "execution_count": null,
   "metadata": {},
   "outputs": [],
   "source": [
    "# Retrieve the Item ID, Item Name, and Item Price columns\n",
    "\n",
    "#Group by Item ID and Item Name. Perform calculations to obtain purchase count, average item price, and total purchase value\n",
    "\n",
    "#Create a summary data frame to hold the results\n",
    "\n",
    "#Sort the purchase count column in descending order\n",
    "\n",
    "#Optional: give the displayed data cleaner formatting\n",
    "\n",
    "#Display a preview of the summary data frame"
   ]
  },
  {
   "source": [
    "## Most Profitable Items\n",
    "\n",
    "### Identify the 5 most profitable items by total purchase value, then list (in a table):\n",
    "\n",
    "* Item ID\n",
    "* Item Name\n",
    "* Purchase Count\n",
    "* Item Price\n",
    "* Total Purchase Value"
   ],
   "cell_type": "markdown",
   "metadata": {}
  },
  {
   "cell_type": "code",
   "execution_count": null,
   "metadata": {},
   "outputs": [],
   "source": [
    "#Sort the above table by total purchase value in descending order\n",
    "\n",
    "#Optional: give the displayed data cleaner formatting\n",
    "\n",
    "#Display a preview of the data frame"
   ]
  }
 ]
}