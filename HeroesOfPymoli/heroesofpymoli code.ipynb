{
 "metadata": {
  "language_info": {
   "codemirror_mode": {
    "name": "ipython",
    "version": 3
   },
   "file_extension": ".py",
   "mimetype": "text/x-python",
   "name": "python",
   "nbconvert_exporter": "python",
   "pygments_lexer": "ipython3",
   "version": "3.8.5"
  },
  "orig_nbformat": 2,
  "kernelspec": {
   "name": "python385jvsc74a57bd0dca0ade3e726a953b501b15e8e990130d2b7799f14cfd9f4271676035ebe5511",
   "display_name": "Python 3.8.5 64-bit ('base': conda)"
  }
 },
 "nbformat": 4,
 "nbformat_minor": 2,
 "cells": [
  {
   "source": [
    "##Study Parter: Jason Wang"
   ],
   "cell_type": "markdown",
   "metadata": {}
  },
  {
   "cell_type": "code",
   "execution_count": 196,
   "metadata": {},
   "outputs": [],
   "source": [
    "# Import library \n",
    "import pandas as pd "
   ]
  },
  {
   "cell_type": "code",
   "execution_count": 197,
   "metadata": {},
   "outputs": [
    {
     "output_type": "execute_result",
     "data": {
      "text/plain": [
       "   Purchase ID             SN  Age Gender  Item ID  \\\n",
       "0            0        Lisim78   20   Male      108   \n",
       "1            1    Lisovynya38   40   Male      143   \n",
       "2            2     Ithergue48   24   Male       92   \n",
       "3            3  Chamassasya86   24   Male      100   \n",
       "4            4      Iskosia90   23   Male      131   \n",
       "\n",
       "                                   Item Name  Price  \n",
       "0  Extraction, Quickblade Of Trembling Hands   3.53  \n",
       "1                          Frenzied Scimitar   1.56  \n",
       "2                               Final Critic   4.88  \n",
       "3                                Blindscythe   3.27  \n",
       "4                                       Fury   1.44  "
      ],
      "text/html": "<div>\n<style scoped>\n    .dataframe tbody tr th:only-of-type {\n        vertical-align: middle;\n    }\n\n    .dataframe tbody tr th {\n        vertical-align: top;\n    }\n\n    .dataframe thead th {\n        text-align: right;\n    }\n</style>\n<table border=\"1\" class=\"dataframe\">\n  <thead>\n    <tr style=\"text-align: right;\">\n      <th></th>\n      <th>Purchase ID</th>\n      <th>SN</th>\n      <th>Age</th>\n      <th>Gender</th>\n      <th>Item ID</th>\n      <th>Item Name</th>\n      <th>Price</th>\n    </tr>\n  </thead>\n  <tbody>\n    <tr>\n      <th>0</th>\n      <td>0</td>\n      <td>Lisim78</td>\n      <td>20</td>\n      <td>Male</td>\n      <td>108</td>\n      <td>Extraction, Quickblade Of Trembling Hands</td>\n      <td>3.53</td>\n    </tr>\n    <tr>\n      <th>1</th>\n      <td>1</td>\n      <td>Lisovynya38</td>\n      <td>40</td>\n      <td>Male</td>\n      <td>143</td>\n      <td>Frenzied Scimitar</td>\n      <td>1.56</td>\n    </tr>\n    <tr>\n      <th>2</th>\n      <td>2</td>\n      <td>Ithergue48</td>\n      <td>24</td>\n      <td>Male</td>\n      <td>92</td>\n      <td>Final Critic</td>\n      <td>4.88</td>\n    </tr>\n    <tr>\n      <th>3</th>\n      <td>3</td>\n      <td>Chamassasya86</td>\n      <td>24</td>\n      <td>Male</td>\n      <td>100</td>\n      <td>Blindscythe</td>\n      <td>3.27</td>\n    </tr>\n    <tr>\n      <th>4</th>\n      <td>4</td>\n      <td>Iskosia90</td>\n      <td>23</td>\n      <td>Male</td>\n      <td>131</td>\n      <td>Fury</td>\n      <td>1.44</td>\n    </tr>\n  </tbody>\n</table>\n</div>"
     },
     "metadata": {},
     "execution_count": 197
    }
   ],
   "source": [
    "# Indicate which csv to analyze\n",
    "csv_file = \"/Users/ashleypatricia/Documents/GitHub/pandas-challenge/HeroesOfPymoli/HeroesOfPymoli_purchase_data.csv\"\n",
    "\n",
    "#Tell code to read this specific csv\n",
    "data_df = pd.read_csv(csv_file)\n",
    "data_df.head()"
   ]
  },
  {
   "cell_type": "code",
   "execution_count": 198,
   "metadata": {},
   "outputs": [
    {
     "output_type": "execute_result",
     "data": {
      "text/plain": [
       "Index(['Purchase ID', 'SN', 'Age', 'Gender', 'Item ID', 'Item Name', 'Price'], dtype='object')"
      ]
     },
     "metadata": {},
     "execution_count": 198
    }
   ],
   "source": [
    "#See what the column names are \n",
    "data_df.columns"
   ]
  },
  {
   "source": [
    "## Player Count\n",
    "\n",
    "* Total Number of Players"
   ],
   "cell_type": "markdown",
   "metadata": {}
  },
  {
   "cell_type": "code",
   "execution_count": 216,
   "metadata": {},
   "outputs": [
    {
     "output_type": "execute_result",
     "data": {
      "text/plain": [
       "   Total Players\n",
       "0            576"
      ],
      "text/html": "<div>\n<style scoped>\n    .dataframe tbody tr th:only-of-type {\n        vertical-align: middle;\n    }\n\n    .dataframe tbody tr th {\n        vertical-align: top;\n    }\n\n    .dataframe thead th {\n        text-align: right;\n    }\n</style>\n<table border=\"1\" class=\"dataframe\">\n  <thead>\n    <tr style=\"text-align: right;\">\n      <th></th>\n      <th>Total Players</th>\n    </tr>\n  </thead>\n  <tbody>\n    <tr>\n      <th>0</th>\n      <td>576</td>\n    </tr>\n  </tbody>\n</table>\n</div>"
     },
     "metadata": {},
     "execution_count": 216
    }
   ],
   "source": [
    "#Total Number of Unique Players\n",
    "uniqueplayers = data_df[\"SN\"].unique()\n",
    "playercount = len(uniqueplayers)\n",
    "playercount\n",
    "\n",
    "#Create summary table\n",
    "playerc_df = pd.DataFrame({\"Total Players\": [playercount]})\n",
    "playerc_df"
   ]
  },
  {
   "source": [
    "## Purchasing Analysis (Total)\n",
    "\n",
    "* Number of Unique Items\n",
    "* Average Purchase Price\n",
    "* Total Number of Purchases\n",
    "* Total Revenue"
   ],
   "cell_type": "markdown",
   "metadata": {}
  },
  {
   "cell_type": "code",
   "execution_count": 219,
   "metadata": {},
   "outputs": [
    {
     "output_type": "execute_result",
     "data": {
      "text/plain": [
       "   Number of Unique Items Average Purchase Price  Number of Purchases  \\\n",
       "0                     179                 $ 3.05                  780   \n",
       "\n",
       "  Total Revenue  \n",
       "0     $ 2379.77  "
      ],
      "text/html": "<div>\n<style scoped>\n    .dataframe tbody tr th:only-of-type {\n        vertical-align: middle;\n    }\n\n    .dataframe tbody tr th {\n        vertical-align: top;\n    }\n\n    .dataframe thead th {\n        text-align: right;\n    }\n</style>\n<table border=\"1\" class=\"dataframe\">\n  <thead>\n    <tr style=\"text-align: right;\">\n      <th></th>\n      <th>Number of Unique Items</th>\n      <th>Average Purchase Price</th>\n      <th>Number of Purchases</th>\n      <th>Total Revenue</th>\n    </tr>\n  </thead>\n  <tbody>\n    <tr>\n      <th>0</th>\n      <td>179</td>\n      <td>$ 3.05</td>\n      <td>780</td>\n      <td>$ 2379.77</td>\n    </tr>\n  </tbody>\n</table>\n</div>"
     },
     "metadata": {},
     "execution_count": 219
    }
   ],
   "source": [
    "#Number of Unique Items\n",
    "uniqueitems = data_df[\"Item ID\"].unique()\n",
    "uniqueitems2 = len(uniqueitems)\n",
    "uniqueitems2\n",
    "\n",
    "#Average Purchase Price\n",
    "avgprice = data_df[\"Price\"].mean()\n",
    "avgprice\n",
    "\n",
    "#Total Number of Purchases\n",
    "purchases = data_df[\"Purchase ID\"].count()\n",
    "purchases\n",
    "\n",
    "#Total Revenue\n",
    "totalrevenue = data_df[\"Price\"].sum()\n",
    "totalrevenue\n",
    "\n",
    "\n",
    "#Create new dataframe for summary data  \n",
    "generaldata_df = pd.DataFrame({\"Number of Unique Items\": [uniqueitems2], \"Average Purchase Price\": [avgprice], \"Number of Purchases\": [purchases], \"Total Revenue\": [totalrevenue]})\n",
    "generaldata_df[\"Average Purchase Price\"] = generaldata_df[\"Average Purchase Price\"].map(\"${: .2f}\".format)\n",
    "generaldata_df[\"Total Revenue\"] = generaldata_df[\"Total Revenue\"].map(\"${: .2f}\".format)\n",
    "generaldata_df\n",
    "\n",
    "\n"
   ]
  },
  {
   "source": [
    "## Gender Demographics\n",
    "\n",
    "* Percentage and Count of Male Players\n",
    "* Percentage and Count of Female Players\n",
    "* Percentage and Count of Other / Non-Disclosed"
   ],
   "cell_type": "markdown",
   "metadata": {}
  },
  {
   "cell_type": "code",
   "execution_count": 221,
   "metadata": {},
   "outputs": [
    {
     "output_type": "execute_result",
     "data": {
      "text/plain": [
       "                       Gender Counts Percentages\n",
       "Gender                                          \n",
       "Male                             484      84.03%\n",
       "Female                            81      14.06%\n",
       "Other / Non-Disclosed             11       1.91%"
      ],
      "text/html": "<div>\n<style scoped>\n    .dataframe tbody tr th:only-of-type {\n        vertical-align: middle;\n    }\n\n    .dataframe tbody tr th {\n        vertical-align: top;\n    }\n\n    .dataframe thead th {\n        text-align: right;\n    }\n</style>\n<table border=\"1\" class=\"dataframe\">\n  <thead>\n    <tr style=\"text-align: right;\">\n      <th></th>\n      <th>Gender Counts</th>\n      <th>Percentages</th>\n    </tr>\n    <tr>\n      <th>Gender</th>\n      <th></th>\n      <th></th>\n    </tr>\n  </thead>\n  <tbody>\n    <tr>\n      <th>Male</th>\n      <td>484</td>\n      <td>84.03%</td>\n    </tr>\n    <tr>\n      <th>Female</th>\n      <td>81</td>\n      <td>14.06%</td>\n    </tr>\n    <tr>\n      <th>Other / Non-Disclosed</th>\n      <td>11</td>\n      <td>1.91%</td>\n    </tr>\n  </tbody>\n</table>\n</div>"
     },
     "metadata": {},
     "execution_count": 221
    }
   ],
   "source": [
    "#Clean up data with duplicates \n",
    "eraseduplicates_df = data_df.drop_duplicates(subset=\"SN\")\n",
    "\n",
    "#Find the number of players by gender\n",
    "gender_count = eraseduplicates_df.value_counts(\"Gender\")\n",
    "gender_count\n",
    "\n",
    "#Count of male players (using index)\n",
    "male = gender_count[0]\n",
    "#Count of female players (using index)\n",
    "female = gender_count[1]\n",
    "#Count of non-disclosed players (using index)\n",
    "non_disclosed = gender_count[2]\n",
    "\n",
    "#Percentage of male players \n",
    "percentmale = (male / (male + female + non_disclosed))\n",
    "#Percentage of female players \n",
    "percentfemale = (female / (male + female + non_disclosed))\n",
    "#Percentage of non-disclosed players \n",
    "percentND = (non_disclosed / (male + female + non_disclosed))\n",
    "\n",
    "#Create new dataframe for summary table \n",
    "percentages = [percentmale, percentfemale, percentND]\n",
    "genderdata_df = pd.DataFrame({\"Gender Counts\": gender_count, \"Percentages\": percentages})\n",
    "genderdata_df[\"Percentages\"] = genderdata_df[\"Percentages\"].map(\"{:.2%}\".format)\n",
    "genderdata_df\n"
   ]
  },
  {
   "source": [
    "## Purchasing Analysis (Gender)\n",
    "\n",
    "### The below each broken by gender\n",
    "\n",
    "* Purchase Count\n",
    "* Average Purchase Price\n",
    "* Total Purchase Value\n",
    "* Average Purchase Total per Person by Gender"
   ],
   "cell_type": "markdown",
   "metadata": {}
  },
  {
   "cell_type": "code",
   "execution_count": 224,
   "metadata": {},
   "outputs": [
    {
     "output_type": "execute_result",
     "data": {
      "text/plain": [
       "                       Purchase Count Average Purchase Price  \\\n",
       "Gender                                                         \n",
       "Male                              652                 $ 3.02   \n",
       "Female                            113                 $ 3.20   \n",
       "Other / Non-Disclosed              15                 $ 3.35   \n",
       "\n",
       "                      Total Purchase Value Avg Total Purchase per Person  \n",
       "Gender                                                                    \n",
       "Male                             $ 1967.64                        $ 4.07  \n",
       "Female                            $ 361.94                        $ 4.47  \n",
       "Other / Non-Disclosed              $ 50.19                        $ 4.56  "
      ],
      "text/html": "<div>\n<style scoped>\n    .dataframe tbody tr th:only-of-type {\n        vertical-align: middle;\n    }\n\n    .dataframe tbody tr th {\n        vertical-align: top;\n    }\n\n    .dataframe thead th {\n        text-align: right;\n    }\n</style>\n<table border=\"1\" class=\"dataframe\">\n  <thead>\n    <tr style=\"text-align: right;\">\n      <th></th>\n      <th>Purchase Count</th>\n      <th>Average Purchase Price</th>\n      <th>Total Purchase Value</th>\n      <th>Avg Total Purchase per Person</th>\n    </tr>\n    <tr>\n      <th>Gender</th>\n      <th></th>\n      <th></th>\n      <th></th>\n      <th></th>\n    </tr>\n  </thead>\n  <tbody>\n    <tr>\n      <th>Male</th>\n      <td>652</td>\n      <td>$ 3.02</td>\n      <td>$ 1967.64</td>\n      <td>$ 4.07</td>\n    </tr>\n    <tr>\n      <th>Female</th>\n      <td>113</td>\n      <td>$ 3.20</td>\n      <td>$ 361.94</td>\n      <td>$ 4.47</td>\n    </tr>\n    <tr>\n      <th>Other / Non-Disclosed</th>\n      <td>15</td>\n      <td>$ 3.35</td>\n      <td>$ 50.19</td>\n      <td>$ 4.56</td>\n    </tr>\n  </tbody>\n</table>\n</div>"
     },
     "metadata": {},
     "execution_count": 224
    }
   ],
   "source": [
    "\n",
    "#Purchase count by gender (don't need to remove duplicates because looking at purchases)\n",
    "gender_info = data_df.value_counts(\"Gender\")\n",
    "gender_info\n",
    "\n",
    "#Avg Purchase Price for Males\n",
    "avgmalepurchases = (round(data_df.loc[data_df[\"Gender\"] == \"Male\", \"Price\"].sum() / gender_info[\"Male\"], 2))\n",
    "avgmalepurchases\n",
    "#Avg Purchace Price for Females\n",
    "avgfemalepurchases = (round(data_df.loc[data_df[\"Gender\"] == \"Female\", \"Price\"].sum() / gender_info[\"Female\"], 2))\n",
    "avgfemalepurchases\n",
    "#Avg Purchace Price for Non-Disclosed\n",
    "avgNDpurchases = (round(data_df.loc[data_df[\"Gender\"] == \"Other / Non-Disclosed\", \"Price\"].sum() / gender_info[\"Other / Non-Disclosed\"], 2))\n",
    "avgNDpurchases\n",
    "\n",
    "#Total Purchase Value for Males \n",
    "totalmalePV = data_df.loc[data_df[\"Gender\"] == \"Male\", \"Price\"].sum()\n",
    "#Total Purchase Value for Females \n",
    "totalfemalePV = data_df.loc[data_df[\"Gender\"] == \"Female\", \"Price\"].sum()\n",
    "#Total Purchase Value for Non-Disclosed\n",
    "totalNDPV = data_df.loc[data_df[\"Gender\"] == \"Other / Non-Disclosed\", \"Price\"].sum()\n",
    "\n",
    "\n",
    "#Average Purchase Total per Person by Males\n",
    "avgmaleTotal = (round(totalmalePV / male, 2))\n",
    "#Average Purchase Total per Person by Females\n",
    "avgfemaleTotal = (round(totalfemalePV / female, 2))\n",
    "#Average Purchase Total per Person by Non-Disclosed\n",
    "avgnon_disclosedTotal = (round(totalNDPV / non_disclosed, 2))\n",
    "\n",
    "\n",
    "\n",
    "#Create lists for new dataframe\n",
    "avgpurchases = [avgmalepurchases, avgfemalepurchases, avgNDpurchases]\n",
    "totalPV = [totalmalePV, totalfemalePV, totalNDPV]\n",
    "avgpurchasetotal = [avgmaleTotal, avgfemaleTotal, avgnon_disclosedTotal]\n",
    "#Create new dataframe for summary table \n",
    "totaldata_df = pd.DataFrame({\"Purchase Count\": gender_info, \"Average Purchase Price\": avgpurchases, \"Total Purchase Value\": totalPV, \"Avg Total Purchase per Person\": avgpurchasetotal})\n",
    "#Format with currency symbols\n",
    "totaldata_df[\"Average Purchase Price\"] = totaldata_df[\"Average Purchase Price\"].map(\"${: .2f}\".format)\n",
    "totaldata_df[\"Total Purchase Value\"] = totaldata_df[\"Total Purchase Value\"].map(\"${: .2f}\".format)\n",
    "totaldata_df[\"Avg Total Purchase per Person\"] = totaldata_df[\"Avg Total Purchase per Person\"].map(\"${: .2f}\".format)\n",
    "#Call new dataframe\n",
    "totaldata_df"
   ]
  },
  {
   "source": [
    "## Age Demographics\n",
    "\n",
    "### The below each broken into bins of 4 years (i.e. <10, 10-14, 15-19, etc.)\n",
    "\n",
    "* Purchase Count\n",
    "* Average Purchase Price\n",
    "* Total Purchase Value\n",
    "* Average Purchase Total per Person by Age Group"
   ],
   "cell_type": "markdown",
   "metadata": {}
  },
  {
   "cell_type": "code",
   "execution_count": 203,
   "metadata": {},
   "outputs": [
    {
     "output_type": "execute_result",
     "data": {
      "text/plain": [
       "       Age Groups Percentage of Players\n",
       "<10            17                 2.95%\n",
       "10-14          22                 3.82%\n",
       "15-19         107                18.58%\n",
       "20-24         258                44.79%\n",
       "25-29          77                13.37%\n",
       "30-34          52                 9.03%\n",
       "35-39          31                 5.38%\n",
       "40+            12                 2.08%"
      ],
      "text/html": "<div>\n<style scoped>\n    .dataframe tbody tr th:only-of-type {\n        vertical-align: middle;\n    }\n\n    .dataframe tbody tr th {\n        vertical-align: top;\n    }\n\n    .dataframe thead th {\n        text-align: right;\n    }\n</style>\n<table border=\"1\" class=\"dataframe\">\n  <thead>\n    <tr style=\"text-align: right;\">\n      <th></th>\n      <th>Age Groups</th>\n      <th>Percentage of Players</th>\n    </tr>\n  </thead>\n  <tbody>\n    <tr>\n      <th>&lt;10</th>\n      <td>17</td>\n      <td>2.95%</td>\n    </tr>\n    <tr>\n      <th>10-14</th>\n      <td>22</td>\n      <td>3.82%</td>\n    </tr>\n    <tr>\n      <th>15-19</th>\n      <td>107</td>\n      <td>18.58%</td>\n    </tr>\n    <tr>\n      <th>20-24</th>\n      <td>258</td>\n      <td>44.79%</td>\n    </tr>\n    <tr>\n      <th>25-29</th>\n      <td>77</td>\n      <td>13.37%</td>\n    </tr>\n    <tr>\n      <th>30-34</th>\n      <td>52</td>\n      <td>9.03%</td>\n    </tr>\n    <tr>\n      <th>35-39</th>\n      <td>31</td>\n      <td>5.38%</td>\n    </tr>\n    <tr>\n      <th>40+</th>\n      <td>12</td>\n      <td>2.08%</td>\n    </tr>\n  </tbody>\n</table>\n</div>"
     },
     "metadata": {},
     "execution_count": 203
    }
   ],
   "source": [
    "#Create bins for age groups\n",
    "bins = [0, 9, 14, 19, 24, 29, 34, 39, 100]\n",
    "\n",
    "#Create labels for each bin \n",
    "grouplabels = [\"<10\", \"10-14\", \"15-19\", \"20-24\", \"25-29\", \"30-34\", \"35-39\", \"40+\"]\n",
    "\n",
    "#Use dataframe without duplicates and slice data \n",
    "nodup_df = data_df.drop_duplicates(subset=\"SN\")\n",
    "nodup = pd.cut(nodup_df[\"Age\"], bins, labels=grouplabels)\n",
    "nodup.value_counts()\n",
    "\n",
    "#new dataframe\n",
    "nodup2_df = pd.DataFrame({\"Age Groups\": nodup.value_counts()})\n",
    "\n",
    "#Percentage of Players by Age Group\n",
    "nodup2_df[\"Percentage of Players\"] = nodup2_df[\"Age Groups\"] / nodup2_df[\"Age Groups\"].sum()\n",
    "\n",
    "#Format\n",
    "nodup2_df[\"Percentage of Players\"] = nodup2_df[\"Percentage of Players\"].map(\"{:.2%}\".format)\n",
    "nodup2_df.sort_index()\n",
    "\n",
    "\n",
    "\n",
    "\n"
   ]
  },
  {
   "cell_type": "code",
   "execution_count": 204,
   "metadata": {},
   "outputs": [
    {
     "output_type": "execute_result",
     "data": {
      "text/plain": [
       "           Purchase Count Average Purchase Price Total Purchase Value  \\\n",
       "Age Range                                                               \n",
       "<10                    23                 $ 3.35              $ 77.13   \n",
       "10-14                  28                 $ 2.96              $ 82.78   \n",
       "15-19                 136                 $ 3.04             $ 412.89   \n",
       "20-24                 365                 $ 3.05            $ 1114.06   \n",
       "25-29                 101                 $ 2.90             $ 293.00   \n",
       "30-34                  73                 $ 2.93             $ 214.00   \n",
       "35-39                  41                 $ 3.60             $ 147.67   \n",
       "40+                    13                 $ 2.94              $ 38.24   \n",
       "\n",
       "          Avg Total Purchase per Person  \n",
       "Age Range                                \n",
       "<10                              $ 4.54  \n",
       "10-14                            $ 3.51  \n",
       "15-19                            $ 0.72  \n",
       "20-24                            $ 0.30  \n",
       "25-29                            $ 1.00  \n",
       "30-34                            $ 1.48  \n",
       "35-39                            $ 2.49  \n",
       "40+                              $ 6.43  "
      ],
      "text/html": "<div>\n<style scoped>\n    .dataframe tbody tr th:only-of-type {\n        vertical-align: middle;\n    }\n\n    .dataframe tbody tr th {\n        vertical-align: top;\n    }\n\n    .dataframe thead th {\n        text-align: right;\n    }\n</style>\n<table border=\"1\" class=\"dataframe\">\n  <thead>\n    <tr style=\"text-align: right;\">\n      <th></th>\n      <th>Purchase Count</th>\n      <th>Average Purchase Price</th>\n      <th>Total Purchase Value</th>\n      <th>Avg Total Purchase per Person</th>\n    </tr>\n    <tr>\n      <th>Age Range</th>\n      <th></th>\n      <th></th>\n      <th></th>\n      <th></th>\n    </tr>\n  </thead>\n  <tbody>\n    <tr>\n      <th>&lt;10</th>\n      <td>23</td>\n      <td>$ 3.35</td>\n      <td>$ 77.13</td>\n      <td>$ 4.54</td>\n    </tr>\n    <tr>\n      <th>10-14</th>\n      <td>28</td>\n      <td>$ 2.96</td>\n      <td>$ 82.78</td>\n      <td>$ 3.51</td>\n    </tr>\n    <tr>\n      <th>15-19</th>\n      <td>136</td>\n      <td>$ 3.04</td>\n      <td>$ 412.89</td>\n      <td>$ 0.72</td>\n    </tr>\n    <tr>\n      <th>20-24</th>\n      <td>365</td>\n      <td>$ 3.05</td>\n      <td>$ 1114.06</td>\n      <td>$ 0.30</td>\n    </tr>\n    <tr>\n      <th>25-29</th>\n      <td>101</td>\n      <td>$ 2.90</td>\n      <td>$ 293.00</td>\n      <td>$ 1.00</td>\n    </tr>\n    <tr>\n      <th>30-34</th>\n      <td>73</td>\n      <td>$ 2.93</td>\n      <td>$ 214.00</td>\n      <td>$ 1.48</td>\n    </tr>\n    <tr>\n      <th>35-39</th>\n      <td>41</td>\n      <td>$ 3.60</td>\n      <td>$ 147.67</td>\n      <td>$ 2.49</td>\n    </tr>\n    <tr>\n      <th>40+</th>\n      <td>13</td>\n      <td>$ 2.94</td>\n      <td>$ 38.24</td>\n      <td>$ 6.43</td>\n    </tr>\n  </tbody>\n</table>\n</div>"
     },
     "metadata": {},
     "execution_count": 204
    }
   ],
   "source": [
    "\n",
    "#Purchase Count by Age \n",
    "data_df[\"Age Groups\"] = pd.cut(data_df[\"Age\"], bins, labels=grouplabels)\n",
    "purchasecount = data_df[\"Age Groups\"].value_counts().sort_index()\n",
    "purchasecount\n",
    "\n",
    "\n",
    "#Average Purchase Price by Age Group \n",
    "group1 = (round(data_df.loc[data_df[\"Age Groups\"] == \"<10\", \"Price\"].sum() / purchasecount[\"<10\"], 2))\n",
    "group2 = (round(data_df.loc[data_df[\"Age Groups\"] == \"10-14\", \"Price\"].sum() / purchasecount[\"10-14\"], 2))\n",
    "group3 = (round(data_df.loc[data_df[\"Age Groups\"] == \"15-19\", \"Price\"].sum() / purchasecount[\"15-19\"], 2))\n",
    "group4 = (round(data_df.loc[data_df[\"Age Groups\"] == \"20-24\", \"Price\"].sum() / purchasecount[\"20-24\"], 2))\n",
    "group5 = (round(data_df.loc[data_df[\"Age Groups\"] == \"25-29\", \"Price\"].sum() / purchasecount[\"25-29\"], 2))\n",
    "group6 = (round(data_df.loc[data_df[\"Age Groups\"] == \"30-34\", \"Price\"].sum() / purchasecount[\"30-34\"], 2))\n",
    "group7 = (round(data_df.loc[data_df[\"Age Groups\"] == \"35-39\", \"Price\"].sum() / purchasecount[\"35-39\"], 2))\n",
    "group8 = (round(data_df.loc[data_df[\"Age Groups\"] == \"40+\", \"Price\"].sum() / purchasecount[\"40+\"], 2))\n",
    "\n",
    "#Total Purchase Value by Age Group \n",
    "totalgroup1 = (round(data_df.loc[data_df[\"Age Groups\"] == \"<10\", \"Price\"].sum(), 2))\n",
    "totalgroup2 = (round(data_df.loc[data_df[\"Age Groups\"] == \"10-14\", \"Price\"].sum(), 2))\n",
    "totalgroup3 = (round(data_df.loc[data_df[\"Age Groups\"] == \"15-19\", \"Price\"].sum(), 2))\n",
    "totalgroup4 = (round(data_df.loc[data_df[\"Age Groups\"] == \"20-24\", \"Price\"].sum(), 2))\n",
    "totalgroup5 = (round(data_df.loc[data_df[\"Age Groups\"] == \"25-29\", \"Price\"].sum(), 2))\n",
    "totalgroup6 = (round(data_df.loc[data_df[\"Age Groups\"] == \"30-34\", \"Price\"].sum(), 2))\n",
    "totalgroup7 = (round(data_df.loc[data_df[\"Age Groups\"] == \"35-39\", \"Price\"].sum(), 2))\n",
    "totalgroup8 = (round(data_df.loc[data_df[\"Age Groups\"] == \"40+\", \"Price\"].sum(), 2))\n",
    "\n",
    "#Average Total Purchase per Person\n",
    "avggrouptotal1 = (round(totalgroup1 / nodup.value_counts().sort_index()[0], 2))\n",
    "avggrouptotal2 = (round(totalgroup1 / nodup.value_counts().sort_index()[1], 2))\n",
    "avggrouptotal3 = (round(totalgroup1 / nodup.value_counts().sort_index()[2], 2))\n",
    "avggrouptotal4 = (round(totalgroup1 / nodup.value_counts().sort_index()[3], 2))\n",
    "avggrouptotal5 = (round(totalgroup1 / nodup.value_counts().sort_index()[4], 2))\n",
    "avggrouptotal6 = (round(totalgroup1 / nodup.value_counts().sort_index()[5], 2))\n",
    "avggrouptotal7 = (round(totalgroup1 / nodup.value_counts().sort_index()[6], 2))\n",
    "avggrouptotal8 = (round(totalgroup1 / nodup.value_counts().sort_index()[7], 2))\n",
    "\n",
    "\n",
    "#new summary dataframe for table \n",
    "avgagePP= [group1, group2, group3, group4, group5, group6, group7, group8]\n",
    "totalagePV = [totalgroup1, totalgroup2, totalgroup3, totalgroup4, totalgroup5, totalgroup6, totalgroup7, totalgroup8]\n",
    "avgtotalage = [avggrouptotal1, avggrouptotal2, avggrouptotal3, avggrouptotal4, avggrouptotal5, avggrouptotal6, avggrouptotal7, avggrouptotal8]\n",
    "agedata1_df = pd.DataFrame({\"Purchase Count\": purchasecount, \"Average Purchase Price\": avgagePP, \"Total Purchase Value\": totalagePV, \"Avg Total Purchase per Person\": avgtotalage})\n",
    "agedata1_df[\"Average Purchase Price\"] = agedata1_df[\"Average Purchase Price\"].map(\"${: .2f}\".format)\n",
    "agedata1_df[\"Total Purchase Value\"] = agedata1_df[\"Total Purchase Value\"].map(\"${: .2f}\".format)\n",
    "agedata1_df[\"Avg Total Purchase per Person\"] = agedata1_df[\"Avg Total Purchase per Person\"].map(\"${: .2f}\".format)\n",
    "agedata1_df.index = agedata1_df.index.rename(\"Age Range\")\n",
    "agedata1_df\n",
    "\n"
   ]
  },
  {
   "source": [
    "## Top Spenders\n",
    "\n",
    "### Identify the the top 5 spenders in the game by total purchase value, then list (in a table):\n",
    "\n",
    "* SN\n",
    "* Purchase Count\n",
    "* Average Purchase Price\n",
    "* Total Purchase Value"
   ],
   "cell_type": "markdown",
   "metadata": {}
  },
  {
   "cell_type": "code",
   "execution_count": 205,
   "metadata": {},
   "outputs": [
    {
     "output_type": "execute_result",
     "data": {
      "text/plain": [
       "             Purchase Count Average Purchase Price Total Purchase Value\n",
       "Player Name                                                            \n",
       "Lisosia93                 5                 $ 3.79              $ 18.96\n",
       "Idastidru52               4                 $ 3.86              $ 15.45\n",
       "Chamjask73                3                 $ 4.61              $ 13.83\n",
       "Iral74                    4                 $ 3.40              $ 13.62\n",
       "Iskadarya95               3                 $ 4.37              $ 13.10\n",
       "...                     ...                    ...                  ...\n",
       "Eudanu84                  1                 $ 1.02               $ 1.02\n",
       "Ililsasya43               1                 $ 1.02               $ 1.02\n",
       "Aidai61                   1                 $ 1.01               $ 1.01\n",
       "Chanirra79                1                 $ 1.01               $ 1.01\n",
       "Alo38                     1                 $ 1.00               $ 1.00\n",
       "\n",
       "[576 rows x 3 columns]"
      ],
      "text/html": "<div>\n<style scoped>\n    .dataframe tbody tr th:only-of-type {\n        vertical-align: middle;\n    }\n\n    .dataframe tbody tr th {\n        vertical-align: top;\n    }\n\n    .dataframe thead th {\n        text-align: right;\n    }\n</style>\n<table border=\"1\" class=\"dataframe\">\n  <thead>\n    <tr style=\"text-align: right;\">\n      <th></th>\n      <th>Purchase Count</th>\n      <th>Average Purchase Price</th>\n      <th>Total Purchase Value</th>\n    </tr>\n    <tr>\n      <th>Player Name</th>\n      <th></th>\n      <th></th>\n      <th></th>\n    </tr>\n  </thead>\n  <tbody>\n    <tr>\n      <th>Lisosia93</th>\n      <td>5</td>\n      <td>$ 3.79</td>\n      <td>$ 18.96</td>\n    </tr>\n    <tr>\n      <th>Idastidru52</th>\n      <td>4</td>\n      <td>$ 3.86</td>\n      <td>$ 15.45</td>\n    </tr>\n    <tr>\n      <th>Chamjask73</th>\n      <td>3</td>\n      <td>$ 4.61</td>\n      <td>$ 13.83</td>\n    </tr>\n    <tr>\n      <th>Iral74</th>\n      <td>4</td>\n      <td>$ 3.40</td>\n      <td>$ 13.62</td>\n    </tr>\n    <tr>\n      <th>Iskadarya95</th>\n      <td>3</td>\n      <td>$ 4.37</td>\n      <td>$ 13.10</td>\n    </tr>\n    <tr>\n      <th>...</th>\n      <td>...</td>\n      <td>...</td>\n      <td>...</td>\n    </tr>\n    <tr>\n      <th>Eudanu84</th>\n      <td>1</td>\n      <td>$ 1.02</td>\n      <td>$ 1.02</td>\n    </tr>\n    <tr>\n      <th>Ililsasya43</th>\n      <td>1</td>\n      <td>$ 1.02</td>\n      <td>$ 1.02</td>\n    </tr>\n    <tr>\n      <th>Aidai61</th>\n      <td>1</td>\n      <td>$ 1.01</td>\n      <td>$ 1.01</td>\n    </tr>\n    <tr>\n      <th>Chanirra79</th>\n      <td>1</td>\n      <td>$ 1.01</td>\n      <td>$ 1.01</td>\n    </tr>\n    <tr>\n      <th>Alo38</th>\n      <td>1</td>\n      <td>$ 1.00</td>\n      <td>$ 1.00</td>\n    </tr>\n  </tbody>\n</table>\n<p>576 rows × 3 columns</p>\n</div>"
     },
     "metadata": {},
     "execution_count": 205
    }
   ],
   "source": [
    "#Number of Purchases of Each Player\n",
    "topspendercount = data_df[\"SN\"].value_counts()\n",
    "topspendercount \n",
    "\n",
    "#Total Purchase Value of Each Player \n",
    "topspenderPV = [round(data_df.loc[data_df[\"SN\"] == player, \"Price\"].sum(), 2) for player in topspendercount.index]\n",
    "topspenderPV\n",
    "\n",
    "#Average Purchase Price Per Player \n",
    "avgPP = [round(topspenderPV[i] / topspendercount[i], 2) for i in range(len(topspendercount))]\n",
    "avgPP\n",
    "\n",
    "#new summary dataframe for table \n",
    "topspenders_df = pd.DataFrame({\"Purchase Count\": topspendercount, \"Average Purchase Price\": avgPP, \"Total Purchase Value\": topspenderPV})\n",
    "sortval = topspenders_df.sort_values(\"Total Purchase Value\", ascending=False)\n",
    "sortval[\"Average Purchase Price\"] = sortval[\"Average Purchase Price\"].map(\"${: .2f}\".format)\n",
    "sortval[\"Total Purchase Value\"] = sortval[\"Total Purchase Value\"].map(\"${: .2f}\".format)\n",
    "sortval.index = sortval.index.rename(\"Player Name\")\n",
    "sortval\n"
   ]
  },
  {
   "source": [
    "## Most Popular Items\n",
    "\n",
    "### Identify the 5 most popular items by purchase count, then list (in a table):\n",
    "\n",
    "* Item ID\n",
    "* Item Name\n",
    "* Purchase Count\n",
    "* Item Price\n",
    "* Total Purchase Value"
   ],
   "cell_type": "markdown",
   "metadata": {}
  },
  {
   "cell_type": "code",
   "execution_count": 206,
   "metadata": {},
   "outputs": [
    {
     "output_type": "execute_result",
     "data": {
      "text/plain": [
       "                                                      Purchase Count  \\\n",
       "Item ID Item Name                                                      \n",
       "92      Final Critic                                              13   \n",
       "178     Oathbreaker, Last Hope of the Breaking Storm              12   \n",
       "145     Fiery Glass Crusader                                       9   \n",
       "132     Persuasion                                                 9   \n",
       "108     Extraction, Quickblade Of Trembling Hands                  9   \n",
       "\n",
       "                                                     Average Item Price  \\\n",
       "Item ID Item Name                                                         \n",
       "92      Final Critic                                             $ 4.61   \n",
       "178     Oathbreaker, Last Hope of the Breaking Storm             $ 4.23   \n",
       "145     Fiery Glass Crusader                                     $ 4.58   \n",
       "132     Persuasion                                               $ 3.22   \n",
       "108     Extraction, Quickblade Of Trembling Hands                $ 3.53   \n",
       "\n",
       "                                                     Total Purchase Value  \n",
       "Item ID Item Name                                                          \n",
       "92      Final Critic                                              $ 59.99  \n",
       "178     Oathbreaker, Last Hope of the Breaking Storm              $ 50.76  \n",
       "145     Fiery Glass Crusader                                      $ 41.22  \n",
       "132     Persuasion                                                $ 28.99  \n",
       "108     Extraction, Quickblade Of Trembling Hands                 $ 31.77  "
      ],
      "text/html": "<div>\n<style scoped>\n    .dataframe tbody tr th:only-of-type {\n        vertical-align: middle;\n    }\n\n    .dataframe tbody tr th {\n        vertical-align: top;\n    }\n\n    .dataframe thead th {\n        text-align: right;\n    }\n</style>\n<table border=\"1\" class=\"dataframe\">\n  <thead>\n    <tr style=\"text-align: right;\">\n      <th></th>\n      <th></th>\n      <th>Purchase Count</th>\n      <th>Average Item Price</th>\n      <th>Total Purchase Value</th>\n    </tr>\n    <tr>\n      <th>Item ID</th>\n      <th>Item Name</th>\n      <th></th>\n      <th></th>\n      <th></th>\n    </tr>\n  </thead>\n  <tbody>\n    <tr>\n      <th>92</th>\n      <th>Final Critic</th>\n      <td>13</td>\n      <td>$ 4.61</td>\n      <td>$ 59.99</td>\n    </tr>\n    <tr>\n      <th>178</th>\n      <th>Oathbreaker, Last Hope of the Breaking Storm</th>\n      <td>12</td>\n      <td>$ 4.23</td>\n      <td>$ 50.76</td>\n    </tr>\n    <tr>\n      <th>145</th>\n      <th>Fiery Glass Crusader</th>\n      <td>9</td>\n      <td>$ 4.58</td>\n      <td>$ 41.22</td>\n    </tr>\n    <tr>\n      <th>132</th>\n      <th>Persuasion</th>\n      <td>9</td>\n      <td>$ 3.22</td>\n      <td>$ 28.99</td>\n    </tr>\n    <tr>\n      <th>108</th>\n      <th>Extraction, Quickblade Of Trembling Hands</th>\n      <td>9</td>\n      <td>$ 3.53</td>\n      <td>$ 31.77</td>\n    </tr>\n  </tbody>\n</table>\n</div>"
     },
     "metadata": {},
     "execution_count": 206
    }
   ],
   "source": [
    "# Retrieve the Item ID, Item Name, and Item Price columns\n",
    "popitems = data_df[[\"Item ID\", \"Item Name\", \"Price\"]]\n",
    "\n",
    "#Group by Item ID and Item Name. \n",
    "grouped = popitems_df.groupby([\"Item ID\", \"Item Name\"])\n",
    "\n",
    "#Purchase Count for Each Item\n",
    "topitemcount = grouped[\"Item Name\"].count()\n",
    "#Check if correct by seeing in decending order\n",
    "#topitemcount2 = topitemcount.sort_values(ascending=False)\n",
    "#topitemcount2\n",
    "\n",
    "#Total Purchase Value of Each Item\n",
    "topitemPV = grouped[\"Price\"].sum()\n",
    "\n",
    "#Average Item Price for Each Item\n",
    "avgtopprice = grouped[\"Price\"].mean()\n",
    "\n",
    "#New summary dataframe for table \n",
    "mostpopitems_df = pd.DataFrame({\"Purchase Count\": topitemcount, \"Average Item Price\": avgtopprice, \"Total Purchase Value\": topitemPV})\n",
    "sort = mostpopitems_df.sort_values(\"Purchase Count\", ascending=False)\n",
    "sort[\"Average Item Price\"] = sort[\"Average Item Price\"].map(\"${: .2f}\".format)\n",
    "sort[\"Total Purchase Value\"] = sort[\"Total Purchase Value\"].map(\"${: .2f}\".format)\n",
    "sort.head()\n"
   ]
  },
  {
   "source": [
    "## Most Profitable Items\n",
    "\n",
    "### Identify the 5 most profitable items by total purchase value, then list (in a table):\n",
    "\n",
    "* Item ID\n",
    "* Item Name\n",
    "* Purchase Count\n",
    "* Item Price\n",
    "* Total Purchase Value"
   ],
   "cell_type": "markdown",
   "metadata": {}
  },
  {
   "cell_type": "code",
   "execution_count": 207,
   "metadata": {},
   "outputs": [
    {
     "output_type": "execute_result",
     "data": {
      "text/plain": [
       "                                                      Purchase Count  \\\n",
       "Item ID Item Name                                                      \n",
       "92      Final Critic                                              13   \n",
       "178     Oathbreaker, Last Hope of the Breaking Storm              12   \n",
       "82      Nirvana                                                    9   \n",
       "145     Fiery Glass Crusader                                       9   \n",
       "103     Singed Scalpel                                             8   \n",
       "\n",
       "                                                     Average Item Price  \\\n",
       "Item ID Item Name                                                         \n",
       "92      Final Critic                                             $ 4.61   \n",
       "178     Oathbreaker, Last Hope of the Breaking Storm             $ 4.23   \n",
       "82      Nirvana                                                  $ 4.90   \n",
       "145     Fiery Glass Crusader                                     $ 4.58   \n",
       "103     Singed Scalpel                                           $ 4.35   \n",
       "\n",
       "                                                     Total Purchase Value  \n",
       "Item ID Item Name                                                          \n",
       "92      Final Critic                                              $ 59.99  \n",
       "178     Oathbreaker, Last Hope of the Breaking Storm              $ 50.76  \n",
       "82      Nirvana                                                   $ 44.10  \n",
       "145     Fiery Glass Crusader                                      $ 41.22  \n",
       "103     Singed Scalpel                                            $ 34.80  "
      ],
      "text/html": "<div>\n<style scoped>\n    .dataframe tbody tr th:only-of-type {\n        vertical-align: middle;\n    }\n\n    .dataframe tbody tr th {\n        vertical-align: top;\n    }\n\n    .dataframe thead th {\n        text-align: right;\n    }\n</style>\n<table border=\"1\" class=\"dataframe\">\n  <thead>\n    <tr style=\"text-align: right;\">\n      <th></th>\n      <th></th>\n      <th>Purchase Count</th>\n      <th>Average Item Price</th>\n      <th>Total Purchase Value</th>\n    </tr>\n    <tr>\n      <th>Item ID</th>\n      <th>Item Name</th>\n      <th></th>\n      <th></th>\n      <th></th>\n    </tr>\n  </thead>\n  <tbody>\n    <tr>\n      <th>92</th>\n      <th>Final Critic</th>\n      <td>13</td>\n      <td>$ 4.61</td>\n      <td>$ 59.99</td>\n    </tr>\n    <tr>\n      <th>178</th>\n      <th>Oathbreaker, Last Hope of the Breaking Storm</th>\n      <td>12</td>\n      <td>$ 4.23</td>\n      <td>$ 50.76</td>\n    </tr>\n    <tr>\n      <th>82</th>\n      <th>Nirvana</th>\n      <td>9</td>\n      <td>$ 4.90</td>\n      <td>$ 44.10</td>\n    </tr>\n    <tr>\n      <th>145</th>\n      <th>Fiery Glass Crusader</th>\n      <td>9</td>\n      <td>$ 4.58</td>\n      <td>$ 41.22</td>\n    </tr>\n    <tr>\n      <th>103</th>\n      <th>Singed Scalpel</th>\n      <td>8</td>\n      <td>$ 4.35</td>\n      <td>$ 34.80</td>\n    </tr>\n  </tbody>\n</table>\n</div>"
     },
     "metadata": {},
     "execution_count": 207
    }
   ],
   "source": [
    "#Sort the above table by total purchase value in descending order\n",
    "sort2 = mostpopitems_df.sort_values(\"Total Purchase Value\", ascending=False)\n",
    "sort2[\"Average Item Price\"] = sort2[\"Average Item Price\"].map(\"${: .2f}\".format)\n",
    "sort2[\"Total Purchase Value\"] = sort2[\"Total Purchase Value\"].map(\"${: .2f}\".format)\n",
    "sort2.head()\n"
   ]
  },
  {
   "cell_type": "code",
   "execution_count": null,
   "metadata": {},
   "outputs": [],
   "source": []
  }
 ]
}