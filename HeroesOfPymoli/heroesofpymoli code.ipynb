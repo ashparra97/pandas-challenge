{
 "metadata": {
  "language_info": {
   "codemirror_mode": {
    "name": "ipython",
    "version": 3
   },
   "file_extension": ".py",
   "mimetype": "text/x-python",
   "name": "python",
   "nbconvert_exporter": "python",
   "pygments_lexer": "ipython3",
   "version": "3.8.5"
  },
  "orig_nbformat": 2,
  "kernelspec": {
   "name": "python385jvsc74a57bd0dca0ade3e726a953b501b15e8e990130d2b7799f14cfd9f4271676035ebe5511",
   "display_name": "Python 3.8.5 64-bit ('base': conda)"
  }
 },
 "nbformat": 4,
 "nbformat_minor": 2,
 "cells": [
  {
   "cell_type": "code",
   "execution_count": null,
   "metadata": {},
   "outputs": [],
   "source": [
    "#import library \n",
    "import pandas as pd "
   ]
  },
  {
   "cell_type": "code",
   "execution_count": null,
   "metadata": {},
   "outputs": [],
   "source": [
    "#indicate which csv to analyze\n",
    "csv_file = \"/Users/ashleypatricia/Documents/GitHub/pandas-challenge/HeroesOfPymoli/HeroesOfPymoli_purchase_data.csv\"\n",
    "#tell code to read this csv\n",
    "data_df = pd.read_csv(csv_file)\n",
    "data_df.head()"
   ]
  },
  {
   "cell_type": "code",
   "execution_count": null,
   "metadata": {},
   "outputs": [],
   "source": [
    "#column names \n",
    "data_df.columns"
   ]
  },
  {
   "source": [
    "## Player Count\n",
    "\n",
    "* Total Number of Players"
   ],
   "cell_type": "markdown",
   "metadata": {}
  },
  {
   "cell_type": "code",
   "execution_count": null,
   "metadata": {},
   "outputs": [],
   "source": [
    "#Total Number of Unique Players\n",
    "uniqueplayers = data_df[\"SN\"].unique()\n",
    "len(uniqueplayers)"
   ]
  },
  {
   "source": [
    "## Purchasing Analysis (Total)\n",
    "\n",
    "* Number of Unique Items\n",
    "* Average Purchase Price\n",
    "* Total Number of Purchases\n",
    "* Total Revenue"
   ],
   "cell_type": "markdown",
   "metadata": {}
  },
  {
   "cell_type": "code",
   "execution_count": null,
   "metadata": {},
   "outputs": [],
   "source": [
    "#Number of Unique Items\n",
    "uniqueitems = data_df[\"Item ID\"].unique()\n",
    "len(uniqueitems)\n",
    "#Average Purchase Price\n",
    "avgprice = data_df[\"Price\"].mean()\n",
    "avgprice\n",
    "#Total Number of Purchases\n",
    "purchases = data_df[[\"Purchase ID\"]].count()\n",
    "#Total Revenue\n",
    "totalrevenue = data_df[\"Price\"].sum()\n",
    "totalrevenue\n",
    "\n",
    "###PRINT TABLE HERE \n",
    "generaldata_df = pd.DataFrame({\"Number of Unique Items\": len(uniqueitems), \"Average Purchase Price\": avgprice, \"Total Number of Purchases\": purchases, \"Total Revenue\": totalrevenue})\n",
    "generaldata_df[\"Average Purchase Price\"] = generaldata_df[\"Average Purchase Price\"].map(\"${: .2f}\".format)\n",
    "generaldata_df[\"Total Revenue\"] = generaldata_df[\"Total Revenue\"].map(\"${: .2f}\".format)\n",
    "generaldata_df\n",
    "\n",
    "\n"
   ]
  },
  {
   "source": [
    "## Gender Demographics\n",
    "\n",
    "* Percentage and Count of Male Players\n",
    "* Percentage and Count of Female Players\n",
    "* Percentage and Count of Other / Non-Disclosed"
   ],
   "cell_type": "markdown",
   "metadata": {}
  },
  {
   "cell_type": "code",
   "execution_count": null,
   "metadata": {},
   "outputs": [],
   "source": [
    "#Clean up data with duplicates \n",
    "eraseduplicates_df = data_df.drop_duplicates(subset=\"SN\")\n",
    "gender_count = eraseduplicates_df.value_counts(\"Gender\")\n",
    "gender_count\n",
    "\n",
    "#Count of Male Players\n",
    "male = gender_count[0]\n",
    "#Count of Female Players\n",
    "female = gender_count[1]\n",
    "#Count of Non-Disclosed Players\n",
    "non_disclosed = gender_count[2]\n",
    "\n",
    "#Percentage of Male Players \n",
    "percentmale = (male / (male + female + non_disclosed))\n",
    "#Percentage of Female Players \n",
    "percentfemale = (female / (male + female + non_disclosed))\n",
    "#Percentage of Non-Disclosed Players \n",
    "percentND = (non_disclosed / (male + female + non_disclosed))\n",
    "\n",
    "#new dataframe for table\n",
    "percentages = [percentmale, percentfemale, percentND]\n",
    "genderdata_df = pd.DataFrame({\"Gender Counts\": gender_count, \"Percentages\": percentages})\n",
    "genderdata_df[\"Percentages\"] = genderdata_df[\"Percentages\"].map(\"{:.2%}\".format)\n",
    "genderdata_df\n",
    "\n",
    "##FIX ROUNDING ON PERCENTAGES HERE \n"
   ]
  },
  {
   "source": [
    "## Purchasing Analysis (Gender)\n",
    "\n",
    "### The below each broken by gender\n",
    "\n",
    "* Purchase Count\n",
    "* Average Purchase Price\n",
    "* Total Purchase Value\n",
    "* Average Purchase Total per Person by Gender"
   ],
   "cell_type": "markdown",
   "metadata": {}
  },
  {
   "cell_type": "code",
   "execution_count": null,
   "metadata": {},
   "outputs": [],
   "source": [
    "\n",
    "#Purchase Count by Gender\n",
    "gender_info = data_df.value_counts(\"Gender\")\n",
    "gender_info\n",
    "\n",
    "#Avg Purchase Price for Males\n",
    "avgmalepurchases = (round(data_df.loc[data_df[\"Gender\"] == \"Male\", \"Price\"].sum() / gender_info[\"Male\"], 2))\n",
    "avgmalepurchases\n",
    "#Avg Purchace Price for Females\n",
    "avgfemalepurchases = (round(data_df.loc[data_df[\"Gender\"] == \"Female\", \"Price\"].sum() / gender_info[\"Female\"], 2))\n",
    "avgfemalepurchases\n",
    "#Avg Purchace Price for Non-Disclosed\n",
    "avgNDpurchases = (round(data_df.loc[data_df[\"Gender\"] == \"Other / Non-Disclosed\", \"Price\"].sum() / gender_info[\"Other / Non-Disclosed\"], 2))\n",
    "avgNDpurchases\n",
    "\n",
    "#Total Purchase Value for Males \n",
    "totalmalePV = data_df.loc[data_df[\"Gender\"] == \"Male\", \"Price\"].sum()\n",
    "#Total Purchase Value for Females \n",
    "totalfemalePV = data_df.loc[data_df[\"Gender\"] == \"Female\", \"Price\"].sum()\n",
    "#Total Purchase Value for Non-Disclosed\n",
    "totalNDPV = data_df.loc[data_df[\"Gender\"] == \"Other / Non-Disclosed\", \"Price\"].sum()\n",
    "\n",
    "\n",
    "#Average Purchase Total per Person by Males\n",
    "avgmaleTotal = (round(totalmalePV / gender_count[0], 2))\n",
    "#Average Purchase Total per Person by Females\n",
    "avgfemaleTotal = (round(totalfemalePV / gender_count[1], 2))\n",
    "#Average Purchase Total per Person by Non-Disclosed\n",
    "avgnon_disclosedTotal = (round(totalNDPV / gender_count[2], 2))\n",
    "\n",
    "\n",
    "#new summary dataframe for table \n",
    "avgpurchases = [avgmalepurchases, avgfemalepurchases, avgNDpurchases]\n",
    "totalPV = [totalmalePV, totalfemalePV, totalNDPV]\n",
    "avgpurchasetotal = [avgmaleTotal, avgfemaleTotal, avgnon_disclosedTotal]\n",
    "totaldata_df = pd.DataFrame({\"Purchase Count\": gender_info, \"Average Purchase Price\": avgpurchases, \"Total Purchase Value\": totalPV, \"Avg Total Purchase per Person\": avgpurchasetotal})\n",
    "totaldata_df[\"Average Purchase Price\"] = totaldata_df[\"Average Purchase Price\"].map(\"${: .2f}\".format)\n",
    "totaldata_df[\"Total Purchase Value\"] = totaldata_df[\"Total Purchase Value\"].map(\"${: .2f}\".format)\n",
    "totaldata_df[\"Avg Total Purchase per Person\"] = totaldata_df[\"Avg Total Purchase per Person\"].map(\"${: .2f}\".format)\n",
    "totaldata_df"
   ]
  },
  {
   "source": [
    "## Age Demographics\n",
    "\n",
    "### The below each broken into bins of 4 years (i.e. <10, 10-14, 15-19, etc.)\n",
    "\n",
    "* Purchase Count\n",
    "* Average Purchase Price\n",
    "* Total Purchase Value\n",
    "* Average Purchase Total per Person by Age Group"
   ],
   "cell_type": "markdown",
   "metadata": {}
  },
  {
   "cell_type": "code",
   "execution_count": null,
   "metadata": {},
   "outputs": [],
   "source": [
    "#create bins for ages \n",
    "bins = [0, 9, 14, 19, 24, 29, 34, 39, 100]\n",
    "\n",
    "#create labels for each bin \n",
    "grouplabels = [\"<10\", \"10-14\", \"15-19\", \"20-24\", \"25-29\", \"30-34\", \"35-39\", \"40+\"]\n",
    "\n",
    "#use dataframe without duplicates and slice data \n",
    "nodup_df = data_df.drop_duplicates(subset=\"SN\")\n",
    "nodup = pd.cut(nodup_df[\"Age\"], bins, labels=grouplabels)\n",
    "nodup.value_counts()\n",
    "\n",
    "#new dataframe\n",
    "nodup2_df = pd.DataFrame({\"Age Groups\": nodup.value_counts()})\n",
    "\n",
    "#Percentage of Players by Age Group\n",
    "nodup2_df[\"Percentage of Players\"] = nodup2_df[\"Age Groups\"] / nodup2_df[\"Age Groups\"].sum()\n",
    "\n",
    "#Format\n",
    "nodup2_df[\"Percentage of Players\"] = nodup2_df[\"Percentage of Players\"].map(\"{:.2%}\".format)\n",
    "nodup2_df.sort_index()\n",
    "\n",
    "\n",
    "\n",
    "\n"
   ]
  },
  {
   "cell_type": "code",
   "execution_count": null,
   "metadata": {},
   "outputs": [],
   "source": [
    "\n",
    "#Purchase Count by Age \n",
    "data_df[\"Age Groups\"] = pd.cut(data_df[\"Age\"], bins, labels=grouplabels)\n",
    "purchasecount = data_df[\"Age Groups\"].value_counts().sort_index()\n",
    "purchasecount\n",
    "\n",
    "\n",
    "#Average Purchase Price by Age Group \n",
    "group1 = (round(data_df.loc[data_df[\"Age Groups\"] == \"<10\", \"Price\"].sum() / purchasecount[\"<10\"], 2))\n",
    "group2 = (round(data_df.loc[data_df[\"Age Groups\"] == \"10-14\", \"Price\"].sum() / purchasecount[\"10-14\"], 2))\n",
    "group3 = (round(data_df.loc[data_df[\"Age Groups\"] == \"15-19\", \"Price\"].sum() / purchasecount[\"15-19\"], 2))\n",
    "group4 = (round(data_df.loc[data_df[\"Age Groups\"] == \"20-24\", \"Price\"].sum() / purchasecount[\"20-24\"], 2))\n",
    "group5 = (round(data_df.loc[data_df[\"Age Groups\"] == \"25-29\", \"Price\"].sum() / purchasecount[\"25-29\"], 2))\n",
    "group6 = (round(data_df.loc[data_df[\"Age Groups\"] == \"30-34\", \"Price\"].sum() / purchasecount[\"30-34\"], 2))\n",
    "group7 = (round(data_df.loc[data_df[\"Age Groups\"] == \"35-39\", \"Price\"].sum() / purchasecount[\"35-39\"], 2))\n",
    "group8 = (round(data_df.loc[data_df[\"Age Groups\"] == \"40+\", \"Price\"].sum() / purchasecount[\"40+\"], 2))\n",
    "\n",
    "#Total Purchase Value by Age Group \n",
    "totalgroup1 = (round(data_df.loc[data_df[\"Age Groups\"] == \"<10\", \"Price\"].sum(), 2))\n",
    "totalgroup2 = (round(data_df.loc[data_df[\"Age Groups\"] == \"10-14\", \"Price\"].sum(), 2))\n",
    "totalgroup3 = (round(data_df.loc[data_df[\"Age Groups\"] == \"15-19\", \"Price\"].sum(), 2))\n",
    "totalgroup4 = (round(data_df.loc[data_df[\"Age Groups\"] == \"20-24\", \"Price\"].sum(), 2))\n",
    "totalgroup5 = (round(data_df.loc[data_df[\"Age Groups\"] == \"25-29\", \"Price\"].sum(), 2))\n",
    "totalgroup6 = (round(data_df.loc[data_df[\"Age Groups\"] == \"30-34\", \"Price\"].sum(), 2))\n",
    "totalgroup7 = (round(data_df.loc[data_df[\"Age Groups\"] == \"35-39\", \"Price\"].sum(), 2))\n",
    "totalgroup8 = (round(data_df.loc[data_df[\"Age Groups\"] == \"40+\", \"Price\"].sum(), 2))\n",
    "\n",
    "#Average Total Purchase per Person\n",
    "avggrouptotal1 = (round(totalgroup1 / nodup.value_counts().sort_index()[0], 2))\n",
    "avggrouptotal2 = (round(totalgroup1 / nodup.value_counts().sort_index()[1], 2))\n",
    "avggrouptotal3 = (round(totalgroup1 / nodup.value_counts().sort_index()[2], 2))\n",
    "avggrouptotal4 = (round(totalgroup1 / nodup.value_counts().sort_index()[3], 2))\n",
    "avggrouptotal5 = (round(totalgroup1 / nodup.value_counts().sort_index()[4], 2))\n",
    "avggrouptotal6 = (round(totalgroup1 / nodup.value_counts().sort_index()[5], 2))\n",
    "avggrouptotal7 = (round(totalgroup1 / nodup.value_counts().sort_index()[6], 2))\n",
    "avggrouptotal8 = (round(totalgroup1 / nodup.value_counts().sort_index()[7], 2))\n",
    "\n",
    "\n",
    "#new summary dataframe for table \n",
    "avgagePP= [group1, group2, group3, group4, group5, group6, group7, group8]\n",
    "totalagePV = [totalgroup1, totalgroup2, totalgroup3, totalgroup4, totalgroup5, totalgroup6, totalgroup7, totalgroup8]\n",
    "avgtotalage = [avggrouptotal1, avggrouptotal2, avggrouptotal3, avggrouptotal4, avggrouptotal5, avggrouptotal6, avggrouptotal7, avggrouptotal8]\n",
    "agedata1_df = pd.DataFrame({\"Purchase Count\": purchasecount, \"Average Purchase Price\": avgagePP, \"Total Purchase Value\": totalagePV, \"Avg Total Purchase per Person\": avgtotalage})\n",
    "agedata1_df[\"Average Purchase Price\"] = agedata1_df[\"Average Purchase Price\"].map(\"${: .2f}\".format)\n",
    "agedata1_df[\"Total Purchase Value\"] = agedata1_df[\"Total Purchase Value\"].map(\"${: .2f}\".format)\n",
    "agedata1_df[\"Avg Total Purchase per Person\"] = agedata1_df[\"Avg Total Purchase per Person\"].map(\"${: .2f}\".format)\n",
    "agedata1_df.index = agedata1_df.index.rename(\"Age Range\")\n",
    "agedata1_df\n",
    "\n"
   ]
  },
  {
   "source": [
    "## Top Spenders\n",
    "\n",
    "### Identify the the top 5 spenders in the game by total purchase value, then list (in a table):\n",
    "\n",
    "* SN\n",
    "* Purchase Count\n",
    "* Average Purchase Price\n",
    "* Total Purchase Value"
   ],
   "cell_type": "markdown",
   "metadata": {}
  },
  {
   "cell_type": "code",
   "execution_count": 147,
   "metadata": {},
   "outputs": [
    {
     "output_type": "error",
     "ename": "SyntaxError",
     "evalue": "Generator expression must be parenthesized (<ipython-input-147-5ec2cb1c7b9c>, line 5)",
     "traceback": [
      "\u001b[0;36m  File \u001b[0;32m\"<ipython-input-147-5ec2cb1c7b9c>\"\u001b[0;36m, line \u001b[0;32m5\u001b[0m\n\u001b[0;31m    topspenderavgprice = (round(data_df.loc[data_df[\"SN\"] == player, \"Price\"].sum() for player in topspendercount.index, 2))\u001b[0m\n\u001b[0m                                ^\u001b[0m\n\u001b[0;31mSyntaxError\u001b[0m\u001b[0;31m:\u001b[0m Generator expression must be parenthesized\n"
     ]
    }
   ],
   "source": [
    "\n",
    "#Purchase per Player\n",
    "topspendercount = data_df[\"SN\"].value_counts()\n",
    "topspendercount \n",
    "\n",
    "topspenderavgprice = (round(data_df.loc[data_df[\"SN\"] == player, \"Price\"].sum() for player in topspendercount.index, 2))\n",
    "topspenderavgprice\n",
    "\n",
    "\n",
    "#Average Purchase Price Per Spender \n",
    "\n",
    "#topspenderpurchse\n",
    "\n",
    "#Create a summary data frame to hold the results\n",
    "\n",
    "#Sort the total purchase value column in descending order\n",
    "\n",
    "#Optional: give the displayed data cleaner formatting\n",
    "\n",
    "#Display a preview of the summary data frame"
   ]
  },
  {
   "source": [
    "## Most Popular Items\n",
    "\n",
    "### Identify the 5 most popular items by purchase count, then list (in a table):\n",
    "\n",
    "* Item ID\n",
    "* Item Name\n",
    "* Purchase Count\n",
    "* Item Price\n",
    "* Total Purchase Value"
   ],
   "cell_type": "markdown",
   "metadata": {}
  },
  {
   "cell_type": "code",
   "execution_count": null,
   "metadata": {},
   "outputs": [],
   "source": [
    "# Retrieve the Item ID, Item Name, and Item Price columns\n",
    "\n",
    "#Group by Item ID and Item Name. Perform calculations to obtain purchase count, average item price, and total purchase value\n",
    "\n",
    "#Create a summary data frame to hold the results\n",
    "\n",
    "#Sort the purchase count column in descending order\n",
    "\n",
    "#Optional: give the displayed data cleaner formatting\n",
    "\n",
    "#Display a preview of the summary data frame"
   ]
  },
  {
   "source": [
    "## Most Profitable Items\n",
    "\n",
    "### Identify the 5 most profitable items by total purchase value, then list (in a table):\n",
    "\n",
    "* Item ID\n",
    "* Item Name\n",
    "* Purchase Count\n",
    "* Item Price\n",
    "* Total Purchase Value"
   ],
   "cell_type": "markdown",
   "metadata": {}
  },
  {
   "cell_type": "code",
   "execution_count": null,
   "metadata": {},
   "outputs": [],
   "source": [
    "#Sort the above table by total purchase value in descending order\n",
    "\n",
    "#Optional: give the displayed data cleaner formatting\n",
    "\n",
    "#Display a preview of the data frame"
   ]
  }
 ]
}