{
 "metadata": {
  "language_info": {
   "codemirror_mode": {
    "name": "ipython",
    "version": 3
   },
   "file_extension": ".py",
   "mimetype": "text/x-python",
   "name": "python",
   "nbconvert_exporter": "python",
   "pygments_lexer": "ipython3",
   "version": "3.8.5"
  },
  "orig_nbformat": 2,
  "kernelspec": {
   "name": "python385jvsc74a57bd0dca0ade3e726a953b501b15e8e990130d2b7799f14cfd9f4271676035ebe5511",
   "display_name": "Python 3.8.5 64-bit ('base': conda)"
  }
 },
 "nbformat": 4,
 "nbformat_minor": 2,
 "cells": [
  {
   "cell_type": "code",
   "execution_count": 92,
   "metadata": {},
   "outputs": [],
   "source": [
    "#import library \n",
    "import pandas as pd "
   ]
  },
  {
   "cell_type": "code",
   "execution_count": 93,
   "metadata": {},
   "outputs": [
    {
     "output_type": "execute_result",
     "data": {
      "text/plain": [
       "   Purchase ID             SN  Age Gender  Item ID  \\\n",
       "0            0        Lisim78   20   Male      108   \n",
       "1            1    Lisovynya38   40   Male      143   \n",
       "2            2     Ithergue48   24   Male       92   \n",
       "3            3  Chamassasya86   24   Male      100   \n",
       "4            4      Iskosia90   23   Male      131   \n",
       "\n",
       "                                   Item Name  Price  \n",
       "0  Extraction, Quickblade Of Trembling Hands   3.53  \n",
       "1                          Frenzied Scimitar   1.56  \n",
       "2                               Final Critic   4.88  \n",
       "3                                Blindscythe   3.27  \n",
       "4                                       Fury   1.44  "
      ],
      "text/html": "<div>\n<style scoped>\n    .dataframe tbody tr th:only-of-type {\n        vertical-align: middle;\n    }\n\n    .dataframe tbody tr th {\n        vertical-align: top;\n    }\n\n    .dataframe thead th {\n        text-align: right;\n    }\n</style>\n<table border=\"1\" class=\"dataframe\">\n  <thead>\n    <tr style=\"text-align: right;\">\n      <th></th>\n      <th>Purchase ID</th>\n      <th>SN</th>\n      <th>Age</th>\n      <th>Gender</th>\n      <th>Item ID</th>\n      <th>Item Name</th>\n      <th>Price</th>\n    </tr>\n  </thead>\n  <tbody>\n    <tr>\n      <th>0</th>\n      <td>0</td>\n      <td>Lisim78</td>\n      <td>20</td>\n      <td>Male</td>\n      <td>108</td>\n      <td>Extraction, Quickblade Of Trembling Hands</td>\n      <td>3.53</td>\n    </tr>\n    <tr>\n      <th>1</th>\n      <td>1</td>\n      <td>Lisovynya38</td>\n      <td>40</td>\n      <td>Male</td>\n      <td>143</td>\n      <td>Frenzied Scimitar</td>\n      <td>1.56</td>\n    </tr>\n    <tr>\n      <th>2</th>\n      <td>2</td>\n      <td>Ithergue48</td>\n      <td>24</td>\n      <td>Male</td>\n      <td>92</td>\n      <td>Final Critic</td>\n      <td>4.88</td>\n    </tr>\n    <tr>\n      <th>3</th>\n      <td>3</td>\n      <td>Chamassasya86</td>\n      <td>24</td>\n      <td>Male</td>\n      <td>100</td>\n      <td>Blindscythe</td>\n      <td>3.27</td>\n    </tr>\n    <tr>\n      <th>4</th>\n      <td>4</td>\n      <td>Iskosia90</td>\n      <td>23</td>\n      <td>Male</td>\n      <td>131</td>\n      <td>Fury</td>\n      <td>1.44</td>\n    </tr>\n  </tbody>\n</table>\n</div>"
     },
     "metadata": {},
     "execution_count": 93
    }
   ],
   "source": [
    "#indicate which csv to analyze\n",
    "csv_file = \"/Users/ashleypatricia/Documents/GitHub/pandas-challenge/HeroesOfPymoli/HeroesOfPymoli_purchase_data.csv\"\n",
    "#tell code to read this csv\n",
    "data_df = pd.read_csv(csv_file)\n",
    "data_df.head()"
   ]
  },
  {
   "cell_type": "code",
   "execution_count": 94,
   "metadata": {},
   "outputs": [
    {
     "output_type": "execute_result",
     "data": {
      "text/plain": [
       "Index(['Purchase ID', 'SN', 'Age', 'Gender', 'Item ID', 'Item Name', 'Price'], dtype='object')"
      ]
     },
     "metadata": {},
     "execution_count": 94
    }
   ],
   "source": [
    "#column names \n",
    "data_df.columns"
   ]
  },
  {
   "source": [
    "## Player Count\n",
    "\n",
    "* Total Number of Players"
   ],
   "cell_type": "markdown",
   "metadata": {}
  },
  {
   "cell_type": "code",
   "execution_count": 95,
   "metadata": {},
   "outputs": [
    {
     "output_type": "execute_result",
     "data": {
      "text/plain": [
       "576"
      ]
     },
     "metadata": {},
     "execution_count": 95
    }
   ],
   "source": [
    "#Total Number of Unique Players\n",
    "uniqueplayers = data_df[\"SN\"].unique()\n",
    "len(uniqueplayers)"
   ]
  },
  {
   "source": [
    "## Purchasing Analysis (Total)\n",
    "\n",
    "* Number of Unique Items\n",
    "* Average Purchase Price\n",
    "* Total Number of Purchases\n",
    "* Total Revenue"
   ],
   "cell_type": "markdown",
   "metadata": {}
  },
  {
   "cell_type": "code",
   "execution_count": 96,
   "metadata": {},
   "outputs": [
    {
     "output_type": "execute_result",
     "data": {
      "text/plain": [
       "             Number of Unique Items Average Purchase Price  \\\n",
       "Purchase ID                     179                 $ 3.05   \n",
       "\n",
       "             Total Number of Purchases Total Revenue  \n",
       "Purchase ID                        780     $ 2379.77  "
      ],
      "text/html": "<div>\n<style scoped>\n    .dataframe tbody tr th:only-of-type {\n        vertical-align: middle;\n    }\n\n    .dataframe tbody tr th {\n        vertical-align: top;\n    }\n\n    .dataframe thead th {\n        text-align: right;\n    }\n</style>\n<table border=\"1\" class=\"dataframe\">\n  <thead>\n    <tr style=\"text-align: right;\">\n      <th></th>\n      <th>Number of Unique Items</th>\n      <th>Average Purchase Price</th>\n      <th>Total Number of Purchases</th>\n      <th>Total Revenue</th>\n    </tr>\n  </thead>\n  <tbody>\n    <tr>\n      <th>Purchase ID</th>\n      <td>179</td>\n      <td>$ 3.05</td>\n      <td>780</td>\n      <td>$ 2379.77</td>\n    </tr>\n  </tbody>\n</table>\n</div>"
     },
     "metadata": {},
     "execution_count": 96
    }
   ],
   "source": [
    "#Number of Unique Items\n",
    "uniqueitems = data_df[\"Item ID\"].unique()\n",
    "len(uniqueitems)\n",
    "#Average Purchase Price\n",
    "avgprice = data_df[\"Price\"].mean()\n",
    "avgprice\n",
    "#Total Number of Purchases\n",
    "purchases = data_df[[\"Purchase ID\"]].count()\n",
    "#Total Revenue\n",
    "totalrevenue = data_df[\"Price\"].sum()\n",
    "totalrevenue\n",
    "\n",
    "###PRINT TABLE HERE \n",
    "generaldata_df = pd.DataFrame({\"Number of Unique Items\": len(uniqueitems), \"Average Purchase Price\": avgprice, \"Total Number of Purchases\": purchases, \"Total Revenue\": totalrevenue})\n",
    "generaldata_df[\"Average Purchase Price\"] = generaldata_df[\"Average Purchase Price\"].map(\"${: .2f}\".format)\n",
    "generaldata_df[\"Total Revenue\"] = generaldata_df[\"Total Revenue\"].map(\"${: .2f}\".format)\n",
    "generaldata_df\n",
    "\n",
    "\n"
   ]
  },
  {
   "source": [
    "## Gender Demographics\n",
    "\n",
    "* Percentage and Count of Male Players\n",
    "* Percentage and Count of Female Players\n",
    "* Percentage and Count of Other / Non-Disclosed"
   ],
   "cell_type": "markdown",
   "metadata": {}
  },
  {
   "cell_type": "code",
   "execution_count": 97,
   "metadata": {},
   "outputs": [
    {
     "output_type": "execute_result",
     "data": {
      "text/plain": [
       "                       Gender Counts Percentages\n",
       "Gender                                          \n",
       "Male                             484      84.03%\n",
       "Female                            81      14.06%\n",
       "Other / Non-Disclosed             11       1.91%"
      ],
      "text/html": "<div>\n<style scoped>\n    .dataframe tbody tr th:only-of-type {\n        vertical-align: middle;\n    }\n\n    .dataframe tbody tr th {\n        vertical-align: top;\n    }\n\n    .dataframe thead th {\n        text-align: right;\n    }\n</style>\n<table border=\"1\" class=\"dataframe\">\n  <thead>\n    <tr style=\"text-align: right;\">\n      <th></th>\n      <th>Gender Counts</th>\n      <th>Percentages</th>\n    </tr>\n    <tr>\n      <th>Gender</th>\n      <th></th>\n      <th></th>\n    </tr>\n  </thead>\n  <tbody>\n    <tr>\n      <th>Male</th>\n      <td>484</td>\n      <td>84.03%</td>\n    </tr>\n    <tr>\n      <th>Female</th>\n      <td>81</td>\n      <td>14.06%</td>\n    </tr>\n    <tr>\n      <th>Other / Non-Disclosed</th>\n      <td>11</td>\n      <td>1.91%</td>\n    </tr>\n  </tbody>\n</table>\n</div>"
     },
     "metadata": {},
     "execution_count": 97
    }
   ],
   "source": [
    "#Clean up data with duplicates \n",
    "eraseduplicates_df = data_df.drop_duplicates(subset=\"SN\")\n",
    "gender_count = eraseduplicates_df.value_counts(\"Gender\")\n",
    "gender_count\n",
    "\n",
    "#Count of Male Players\n",
    "male = gender_count[0]\n",
    "#Count of Female Players\n",
    "female = gender_count[1]\n",
    "#Count of Non-Disclosed Players\n",
    "non_disclosed = gender_count[2]\n",
    "\n",
    "#Percentage of Male Players \n",
    "percentmale = (male / (male + female + non_disclosed))\n",
    "#Percentage of Female Players \n",
    "percentfemale = (female / (male + female + non_disclosed))\n",
    "#Percentage of Non-Disclosed Players \n",
    "percentND = (non_disclosed / (male + female + non_disclosed))\n",
    "\n",
    "#new dataframe for table\n",
    "percentages = [percentmale, percentfemale, percentND]\n",
    "genderdata_df = pd.DataFrame({\"Gender Counts\": gender_count, \"Percentages\": percentages})\n",
    "genderdata_df[\"Percentages\"] = genderdata_df[\"Percentages\"].map(\"{:.2%}\".format)\n",
    "genderdata_df\n",
    "\n",
    "##FIX ROUNDING ON PERCENTAGES HERE \n"
   ]
  },
  {
   "source": [
    "## Purchasing Analysis (Gender)\n",
    "\n",
    "### The below each broken by gender\n",
    "\n",
    "* Purchase Count\n",
    "* Average Purchase Price\n",
    "* Total Purchase Value\n",
    "* Average Purchase Total per Person by Gender"
   ],
   "cell_type": "markdown",
   "metadata": {}
  },
  {
   "cell_type": "code",
   "execution_count": 98,
   "metadata": {},
   "outputs": [
    {
     "output_type": "execute_result",
     "data": {
      "text/plain": [
       "                       Purchase Count Average Purchase Price  \\\n",
       "Gender                                                         \n",
       "Male                              652                 $ 3.02   \n",
       "Female                            113                 $ 3.20   \n",
       "Other / Non-Disclosed              15                 $ 3.35   \n",
       "\n",
       "                      Total Purchase Value Avg Total Purchase per Person  \n",
       "Gender                                                                    \n",
       "Male                             $ 1967.64                        $ 4.07  \n",
       "Female                            $ 361.94                        $ 4.47  \n",
       "Other / Non-Disclosed              $ 50.19                        $ 4.56  "
      ],
      "text/html": "<div>\n<style scoped>\n    .dataframe tbody tr th:only-of-type {\n        vertical-align: middle;\n    }\n\n    .dataframe tbody tr th {\n        vertical-align: top;\n    }\n\n    .dataframe thead th {\n        text-align: right;\n    }\n</style>\n<table border=\"1\" class=\"dataframe\">\n  <thead>\n    <tr style=\"text-align: right;\">\n      <th></th>\n      <th>Purchase Count</th>\n      <th>Average Purchase Price</th>\n      <th>Total Purchase Value</th>\n      <th>Avg Total Purchase per Person</th>\n    </tr>\n    <tr>\n      <th>Gender</th>\n      <th></th>\n      <th></th>\n      <th></th>\n      <th></th>\n    </tr>\n  </thead>\n  <tbody>\n    <tr>\n      <th>Male</th>\n      <td>652</td>\n      <td>$ 3.02</td>\n      <td>$ 1967.64</td>\n      <td>$ 4.07</td>\n    </tr>\n    <tr>\n      <th>Female</th>\n      <td>113</td>\n      <td>$ 3.20</td>\n      <td>$ 361.94</td>\n      <td>$ 4.47</td>\n    </tr>\n    <tr>\n      <th>Other / Non-Disclosed</th>\n      <td>15</td>\n      <td>$ 3.35</td>\n      <td>$ 50.19</td>\n      <td>$ 4.56</td>\n    </tr>\n  </tbody>\n</table>\n</div>"
     },
     "metadata": {},
     "execution_count": 98
    }
   ],
   "source": [
    "\n",
    "#Purchase Count by Gender\n",
    "gender_info = data_df.value_counts(\"Gender\")\n",
    "gender_info\n",
    "\n",
    "#Avg Purchase Price for Males\n",
    "avgmalepurchases = (round(data_df.loc[data_df[\"Gender\"] == \"Male\", \"Price\"].sum() / gender_info[\"Male\"], 2))\n",
    "avgmalepurchases\n",
    "#Avg Purchace Price for Females\n",
    "avgfemalepurchases = (round(data_df.loc[data_df[\"Gender\"] == \"Female\", \"Price\"].sum() / gender_info[\"Female\"], 2))\n",
    "avgfemalepurchases\n",
    "#Avg Purchace Price for Non-Disclosed\n",
    "avgNDpurchases = (round(data_df.loc[data_df[\"Gender\"] == \"Other / Non-Disclosed\", \"Price\"].sum() / gender_info[\"Other / Non-Disclosed\"], 2))\n",
    "avgNDpurchases\n",
    "\n",
    "#Total Purchase Value for Males \n",
    "totalmalePV = data_df.loc[data_df[\"Gender\"] == \"Male\", \"Price\"].sum()\n",
    "#Total Purchase Value for Females \n",
    "totalfemalePV = data_df.loc[data_df[\"Gender\"] == \"Female\", \"Price\"].sum()\n",
    "#Total Purchase Value for Non-Disclosed\n",
    "totalNDPV = data_df.loc[data_df[\"Gender\"] == \"Other / Non-Disclosed\", \"Price\"].sum()\n",
    "\n",
    "\n",
    "#Average Purchase Total per Person by Males\n",
    "avgmaleTotal = (round(totalmalePV / gender_count[0], 2))\n",
    "#Average Purchase Total per Person by Females\n",
    "avgfemaleTotal = (round(totalfemalePV / gender_count[1], 2))\n",
    "#Average Purchase Total per Person by Non-Disclosed\n",
    "avgnon_disclosedTotal = (round(totalNDPV / gender_count[2], 2))\n",
    "\n",
    "\n",
    "#new summary dataframe for table \n",
    "avgpurchases = [avgmalepurchases, avgfemalepurchases, avgNDpurchases]\n",
    "totalPV = [totalmalePV, totalfemalePV, totalNDPV]\n",
    "avgpurchasetotal = [avgmaleTotal, avgfemaleTotal, avgnon_disclosedTotal]\n",
    "totaldata_df = pd.DataFrame({\"Purchase Count\": gender_info, \"Average Purchase Price\": avgpurchases, \"Total Purchase Value\": totalPV, \"Avg Total Purchase per Person\": avgpurchasetotal})\n",
    "totaldata_df[\"Average Purchase Price\"] = totaldata_df[\"Average Purchase Price\"].map(\"${: .2f}\".format)\n",
    "totaldata_df[\"Total Purchase Value\"] = totaldata_df[\"Total Purchase Value\"].map(\"${: .2f}\".format)\n",
    "totaldata_df[\"Avg Total Purchase per Person\"] = totaldata_df[\"Avg Total Purchase per Person\"].map(\"${: .2f}\".format)\n",
    "totaldata_df"
   ]
  },
  {
   "source": [
    "## Age Demographics\n",
    "\n",
    "### The below each broken into bins of 4 years (i.e. <10, 10-14, 15-19, etc.)\n",
    "\n",
    "* Purchase Count\n",
    "* Average Purchase Price\n",
    "* Total Purchase Value\n",
    "* Average Purchase Total per Person by Age Group"
   ],
   "cell_type": "markdown",
   "metadata": {}
  },
  {
   "cell_type": "code",
   "execution_count": 99,
   "metadata": {},
   "outputs": [
    {
     "output_type": "execute_result",
     "data": {
      "text/plain": [
       "       Age Groups Percentage of Players\n",
       "<10            17                 2.95%\n",
       "10-14          22                 3.82%\n",
       "15-19         107                18.58%\n",
       "20-24         258                44.79%\n",
       "25-29          77                13.37%\n",
       "30-34          52                 9.03%\n",
       "35-39          31                 5.38%\n",
       "40+            12                 2.08%"
      ],
      "text/html": "<div>\n<style scoped>\n    .dataframe tbody tr th:only-of-type {\n        vertical-align: middle;\n    }\n\n    .dataframe tbody tr th {\n        vertical-align: top;\n    }\n\n    .dataframe thead th {\n        text-align: right;\n    }\n</style>\n<table border=\"1\" class=\"dataframe\">\n  <thead>\n    <tr style=\"text-align: right;\">\n      <th></th>\n      <th>Age Groups</th>\n      <th>Percentage of Players</th>\n    </tr>\n  </thead>\n  <tbody>\n    <tr>\n      <th>&lt;10</th>\n      <td>17</td>\n      <td>2.95%</td>\n    </tr>\n    <tr>\n      <th>10-14</th>\n      <td>22</td>\n      <td>3.82%</td>\n    </tr>\n    <tr>\n      <th>15-19</th>\n      <td>107</td>\n      <td>18.58%</td>\n    </tr>\n    <tr>\n      <th>20-24</th>\n      <td>258</td>\n      <td>44.79%</td>\n    </tr>\n    <tr>\n      <th>25-29</th>\n      <td>77</td>\n      <td>13.37%</td>\n    </tr>\n    <tr>\n      <th>30-34</th>\n      <td>52</td>\n      <td>9.03%</td>\n    </tr>\n    <tr>\n      <th>35-39</th>\n      <td>31</td>\n      <td>5.38%</td>\n    </tr>\n    <tr>\n      <th>40+</th>\n      <td>12</td>\n      <td>2.08%</td>\n    </tr>\n  </tbody>\n</table>\n</div>"
     },
     "metadata": {},
     "execution_count": 99
    }
   ],
   "source": [
    "#create bins for ages \n",
    "bins = [0, 9, 14, 19, 24, 29, 34, 39, 100]\n",
    "\n",
    "#create labels for each bin \n",
    "grouplabels = [\"<10\", \"10-14\", \"15-19\", \"20-24\", \"25-29\", \"30-34\", \"35-39\", \"40+\"]\n",
    "\n",
    "#use dataframe without duplicates and slice data \n",
    "nodup_df = data_df.drop_duplicates(subset=\"SN\")\n",
    "nodup = pd.cut(nodup_df[\"Age\"], bins, labels=grouplabels)\n",
    "nodup.value_counts()\n",
    "\n",
    "#new dataframe\n",
    "nodup2_df = pd.DataFrame({\"Age Groups\": nodup.value_counts()})\n",
    "\n",
    "#Percentage of Players by Age Group\n",
    "nodup2_df[\"Percentage of Players\"] = nodup2_df[\"Age Groups\"] / nodup2_df[\"Age Groups\"].sum()\n",
    "\n",
    "#Format\n",
    "nodup2_df[\"Percentage of Players\"] = nodup2_df[\"Percentage of Players\"].map(\"{:.2%}\".format)\n",
    "nodup2_df.sort_index()\n",
    "\n",
    "\n",
    "\n",
    "\n"
   ]
  },
  {
   "cell_type": "code",
   "execution_count": 136,
   "metadata": {},
   "outputs": [
    {
     "output_type": "execute_result",
     "data": {
      "text/plain": [
       "CategoricalIndex(['<10', '10-14', '15-19', '20-24', '25-29', '30-34', '35-39',\n",
       "                  '40+'],\n",
       "                 categories=['<10', '10-14', '15-19', '20-24', '25-29', '30-34', '35-39', '40+'], ordered=True, name='Age Range', dtype='category')"
      ]
     },
     "metadata": {},
     "execution_count": 136
    }
   ],
   "source": [
    "\n",
    "#Purchase Count by Age \n",
    "data_df[\"Age Groups\"] = pd.cut(data_df[\"Age\"], bins, labels=grouplabels)\n",
    "purchasecount = data_df[\"Age Groups\"].value_counts().sort_index()\n",
    "purchasecount\n",
    "\n",
    "\n",
    "#Average Purchase Price by Age Group \n",
    "group1 = (round(data_df.loc[data_df[\"Age Groups\"] == \"<10\", \"Price\"].sum() / purchasecount[\"<10\"], 2))\n",
    "group2 = (round(data_df.loc[data_df[\"Age Groups\"] == \"10-14\", \"Price\"].sum() / purchasecount[\"10-14\"], 2))\n",
    "group3 = (round(data_df.loc[data_df[\"Age Groups\"] == \"15-19\", \"Price\"].sum() / purchasecount[\"15-19\"], 2))\n",
    "group4 = (round(data_df.loc[data_df[\"Age Groups\"] == \"20-24\", \"Price\"].sum() / purchasecount[\"20-24\"], 2))\n",
    "group5 = (round(data_df.loc[data_df[\"Age Groups\"] == \"25-29\", \"Price\"].sum() / purchasecount[\"25-29\"], 2))\n",
    "group6 = (round(data_df.loc[data_df[\"Age Groups\"] == \"30-34\", \"Price\"].sum() / purchasecount[\"30-34\"], 2))\n",
    "group7 = (round(data_df.loc[data_df[\"Age Groups\"] == \"35-39\", \"Price\"].sum() / purchasecount[\"35-39\"], 2))\n",
    "group8 = (round(data_df.loc[data_df[\"Age Groups\"] == \"40+\", \"Price\"].sum() / purchasecount[\"40+\"], 2))\n",
    "\n",
    "#Total Purchase Value by Age Group \n",
    "totalgroup1 = (round(data_df.loc[data_df[\"Age Groups\"] == \"<10\", \"Price\"].sum(), 2))\n",
    "totalgroup2 = (round(data_df.loc[data_df[\"Age Groups\"] == \"10-14\", \"Price\"].sum(), 2))\n",
    "totalgroup3 = (round(data_df.loc[data_df[\"Age Groups\"] == \"15-19\", \"Price\"].sum(), 2))\n",
    "totalgroup4 = (round(data_df.loc[data_df[\"Age Groups\"] == \"20-24\", \"Price\"].sum(), 2))\n",
    "totalgroup5 = (round(data_df.loc[data_df[\"Age Groups\"] == \"25-29\", \"Price\"].sum(), 2))\n",
    "totalgroup6 = (round(data_df.loc[data_df[\"Age Groups\"] == \"30-34\", \"Price\"].sum(), 2))\n",
    "totalgroup7 = (round(data_df.loc[data_df[\"Age Groups\"] == \"35-39\", \"Price\"].sum(), 2))\n",
    "totalgroup8 = (round(data_df.loc[data_df[\"Age Groups\"] == \"40+\", \"Price\"].sum(), 2))\n",
    "\n",
    "#Average Total Purchase per Person\n",
    "avggrouptotal1 = (round(totalgroup1 / nodup.value_counts().sort_index()[0], 2))\n",
    "avggrouptotal2 = (round(totalgroup1 / nodup.value_counts().sort_index()[1], 2))\n",
    "avggrouptotal3 = (round(totalgroup1 / nodup.value_counts().sort_index()[2], 2))\n",
    "avggrouptotal4 = (round(totalgroup1 / nodup.value_counts().sort_index()[3], 2))\n",
    "avggrouptotal5 = (round(totalgroup1 / nodup.value_counts().sort_index()[4], 2))\n",
    "avggrouptotal6 = (round(totalgroup1 / nodup.value_counts().sort_index()[5], 2))\n",
    "avggrouptotal7 = (round(totalgroup1 / nodup.value_counts().sort_index()[6], 2))\n",
    "avggrouptotal8 = (round(totalgroup1 / nodup.value_counts().sort_index()[7], 2))\n",
    "\n",
    "\n",
    "#new summary dataframe for table \n",
    "avgagePP= [group1, group2, group3, group4, group5, group6, group7, group8]\n",
    "totalagePV = [totalgroup1, totalgroup2, totalgroup3, totalgroup4, totalgroup5, totalgroup6, totalgroup7, totalgroup8]\n",
    "avgtotalage = [avggrouptotal1, avggrouptotal2, avggrouptotal3, avggrouptotal4, avggrouptotal5, avggrouptotal6, avggrouptotal7, avggrouptotal8]\n",
    "agedata1_df = pd.DataFrame({\"Purchase Count\": purchasecount, \"Average Purchase Price\": avgagePP, \"Total Purchase Value\": totalagePV, \"Avg Total Purchase per Person\": avgtotalage})\n",
    "agedata1_df[\"Average Purchase Price\"] = agedata1_df[\"Average Purchase Price\"].map(\"${: .2f}\".format)\n",
    "agedata1_df[\"Total Purchase Value\"] = agedata1_df[\"Total Purchase Value\"].map(\"${: .2f}\".format)\n",
    "agedata1_df[\"Avg Total Purchase per Person\"] = agedata1_df[\"Avg Total Purchase per Person\"].map(\"${: .2f}\".format)\n",
    "agedata1_df.index = agedata1_df.index.rename(\"Age Range\")\n",
    "agedata1_df\n",
    "\n"
   ]
  },
  {
   "source": [
    "## Top Spenders\n",
    "\n",
    "### Identify the the top 5 spenders in the game by total purchase value, then list (in a table):\n",
    "\n",
    "* SN\n",
    "* Purchase Count\n",
    "* Average Purchase Price\n",
    "* Total Purchase Value"
   ],
   "cell_type": "markdown",
   "metadata": {}
  },
  {
   "cell_type": "code",
   "execution_count": null,
   "metadata": {},
   "outputs": [],
   "source": [
    "#Run basic calculations to obtain the results in the table below\n",
    "\n",
    "#Create a summary data frame to hold the results\n",
    "\n",
    "#Sort the total purchase value column in descending order\n",
    "\n",
    "#Optional: give the displayed data cleaner formatting\n",
    "\n",
    "#Display a preview of the summary data frame"
   ]
  },
  {
   "source": [
    "## Most Popular Items\n",
    "\n",
    "### Identify the 5 most popular items by purchase count, then list (in a table):\n",
    "\n",
    "* Item ID\n",
    "* Item Name\n",
    "* Purchase Count\n",
    "* Item Price\n",
    "* Total Purchase Value"
   ],
   "cell_type": "markdown",
   "metadata": {}
  },
  {
   "cell_type": "code",
   "execution_count": null,
   "metadata": {},
   "outputs": [],
   "source": [
    "# Retrieve the Item ID, Item Name, and Item Price columns\n",
    "\n",
    "#Group by Item ID and Item Name. Perform calculations to obtain purchase count, average item price, and total purchase value\n",
    "\n",
    "#Create a summary data frame to hold the results\n",
    "\n",
    "#Sort the purchase count column in descending order\n",
    "\n",
    "#Optional: give the displayed data cleaner formatting\n",
    "\n",
    "#Display a preview of the summary data frame"
   ]
  },
  {
   "source": [
    "## Most Profitable Items\n",
    "\n",
    "### Identify the 5 most profitable items by total purchase value, then list (in a table):\n",
    "\n",
    "* Item ID\n",
    "* Item Name\n",
    "* Purchase Count\n",
    "* Item Price\n",
    "* Total Purchase Value"
   ],
   "cell_type": "markdown",
   "metadata": {}
  },
  {
   "cell_type": "code",
   "execution_count": null,
   "metadata": {},
   "outputs": [],
   "source": [
    "#Sort the above table by total purchase value in descending order\n",
    "\n",
    "#Optional: give the displayed data cleaner formatting\n",
    "\n",
    "#Display a preview of the data frame"
   ]
  }
 ]
}