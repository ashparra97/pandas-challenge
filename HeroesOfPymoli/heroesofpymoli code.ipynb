{
 "metadata": {
  "language_info": {
   "codemirror_mode": {
    "name": "ipython",
    "version": 3
   },
   "file_extension": ".py",
   "mimetype": "text/x-python",
   "name": "python",
   "nbconvert_exporter": "python",
   "pygments_lexer": "ipython3",
   "version": "3.8.5"
  },
  "orig_nbformat": 2,
  "kernelspec": {
   "name": "python385jvsc74a57bd0dca0ade3e726a953b501b15e8e990130d2b7799f14cfd9f4271676035ebe5511",
   "display_name": "Python 3.8.5 64-bit ('base': conda)"
  }
 },
 "nbformat": 4,
 "nbformat_minor": 2,
 "cells": [
  {
   "cell_type": "code",
   "execution_count": null,
   "metadata": {},
   "outputs": [],
   "source": [
    "#import library \n",
    "import pandas as pd "
   ]
  },
  {
   "cell_type": "code",
   "execution_count": null,
   "metadata": {},
   "outputs": [],
   "source": [
    "#indicate which csv to analyze\n",
    "csv_file = \"/Users/ashleypatricia/Documents/GitHub/pandas-challenge/HeroesOfPymoli/HeroesOfPymoli_purchase_data.csv\"\n",
    "#tell code to read this csv\n",
    "data_df = pd.read_csv(csv_file)\n",
    "data_df.head()"
   ]
  },
  {
   "cell_type": "code",
   "execution_count": 162,
   "metadata": {},
   "outputs": [
    {
     "output_type": "execute_result",
     "data": {
      "text/plain": [
       "Index(['Purchase ID', 'SN', 'Age', 'Gender', 'Item ID', 'Item Name', 'Price',\n",
       "       'Age Groups'],\n",
       "      dtype='object')"
      ]
     },
     "metadata": {},
     "execution_count": 162
    }
   ],
   "source": [
    "#column names \n",
    "data_df.columns"
   ]
  },
  {
   "source": [
    "## Player Count\n",
    "\n",
    "* Total Number of Players"
   ],
   "cell_type": "markdown",
   "metadata": {}
  },
  {
   "cell_type": "code",
   "execution_count": null,
   "metadata": {},
   "outputs": [],
   "source": [
    "#Total Number of Unique Players\n",
    "uniqueplayers = data_df[\"SN\"].unique()\n",
    "len(uniqueplayers)"
   ]
  },
  {
   "source": [
    "## Purchasing Analysis (Total)\n",
    "\n",
    "* Number of Unique Items\n",
    "* Average Purchase Price\n",
    "* Total Number of Purchases\n",
    "* Total Revenue"
   ],
   "cell_type": "markdown",
   "metadata": {}
  },
  {
   "cell_type": "code",
   "execution_count": null,
   "metadata": {},
   "outputs": [],
   "source": [
    "#Number of Unique Items\n",
    "uniqueitems = data_df[\"Item ID\"].unique()\n",
    "len(uniqueitems)\n",
    "#Average Purchase Price\n",
    "avgprice = data_df[\"Price\"].mean()\n",
    "avgprice\n",
    "#Total Number of Purchases\n",
    "purchases = data_df[[\"Purchase ID\"]].count()\n",
    "#Total Revenue\n",
    "totalrevenue = data_df[\"Price\"].sum()\n",
    "totalrevenue\n",
    "\n",
    "###PRINT TABLE HERE \n",
    "generaldata_df = pd.DataFrame({\"Number of Unique Items\": len(uniqueitems), \"Average Purchase Price\": avgprice, \"Total Number of Purchases\": purchases, \"Total Revenue\": totalrevenue})\n",
    "generaldata_df[\"Average Purchase Price\"] = generaldata_df[\"Average Purchase Price\"].map(\"${: .2f}\".format)\n",
    "generaldata_df[\"Total Revenue\"] = generaldata_df[\"Total Revenue\"].map(\"${: .2f}\".format)\n",
    "generaldata_df\n",
    "\n",
    "\n"
   ]
  },
  {
   "source": [
    "## Gender Demographics\n",
    "\n",
    "* Percentage and Count of Male Players\n",
    "* Percentage and Count of Female Players\n",
    "* Percentage and Count of Other / Non-Disclosed"
   ],
   "cell_type": "markdown",
   "metadata": {}
  },
  {
   "cell_type": "code",
   "execution_count": null,
   "metadata": {},
   "outputs": [],
   "source": [
    "#Clean up data with duplicates \n",
    "eraseduplicates_df = data_df.drop_duplicates(subset=\"SN\")\n",
    "gender_count = eraseduplicates_df.value_counts(\"Gender\")\n",
    "gender_count\n",
    "\n",
    "#Count of Male Players\n",
    "male = gender_count[0]\n",
    "#Count of Female Players\n",
    "female = gender_count[1]\n",
    "#Count of Non-Disclosed Players\n",
    "non_disclosed = gender_count[2]\n",
    "\n",
    "#Percentage of Male Players \n",
    "percentmale = (male / (male + female + non_disclosed))\n",
    "#Percentage of Female Players \n",
    "percentfemale = (female / (male + female + non_disclosed))\n",
    "#Percentage of Non-Disclosed Players \n",
    "percentND = (non_disclosed / (male + female + non_disclosed))\n",
    "\n",
    "#new dataframe for table\n",
    "percentages = [percentmale, percentfemale, percentND]\n",
    "genderdata_df = pd.DataFrame({\"Gender Counts\": gender_count, \"Percentages\": percentages})\n",
    "genderdata_df[\"Percentages\"] = genderdata_df[\"Percentages\"].map(\"{:.2%}\".format)\n",
    "genderdata_df\n",
    "\n",
    "##FIX ROUNDING ON PERCENTAGES HERE \n"
   ]
  },
  {
   "source": [
    "## Purchasing Analysis (Gender)\n",
    "\n",
    "### The below each broken by gender\n",
    "\n",
    "* Purchase Count\n",
    "* Average Purchase Price\n",
    "* Total Purchase Value\n",
    "* Average Purchase Total per Person by Gender"
   ],
   "cell_type": "markdown",
   "metadata": {}
  },
  {
   "cell_type": "code",
   "execution_count": null,
   "metadata": {},
   "outputs": [],
   "source": [
    "\n",
    "#Purchase Count by Gender\n",
    "gender_info = data_df.value_counts(\"Gender\")\n",
    "gender_info\n",
    "\n",
    "#Avg Purchase Price for Males\n",
    "avgmalepurchases = (round(data_df.loc[data_df[\"Gender\"] == \"Male\", \"Price\"].sum() / gender_info[\"Male\"], 2))\n",
    "avgmalepurchases\n",
    "#Avg Purchace Price for Females\n",
    "avgfemalepurchases = (round(data_df.loc[data_df[\"Gender\"] == \"Female\", \"Price\"].sum() / gender_info[\"Female\"], 2))\n",
    "avgfemalepurchases\n",
    "#Avg Purchace Price for Non-Disclosed\n",
    "avgNDpurchases = (round(data_df.loc[data_df[\"Gender\"] == \"Other / Non-Disclosed\", \"Price\"].sum() / gender_info[\"Other / Non-Disclosed\"], 2))\n",
    "avgNDpurchases\n",
    "\n",
    "#Total Purchase Value for Males \n",
    "totalmalePV = data_df.loc[data_df[\"Gender\"] == \"Male\", \"Price\"].sum()\n",
    "#Total Purchase Value for Females \n",
    "totalfemalePV = data_df.loc[data_df[\"Gender\"] == \"Female\", \"Price\"].sum()\n",
    "#Total Purchase Value for Non-Disclosed\n",
    "totalNDPV = data_df.loc[data_df[\"Gender\"] == \"Other / Non-Disclosed\", \"Price\"].sum()\n",
    "\n",
    "\n",
    "#Average Purchase Total per Person by Males\n",
    "avgmaleTotal = (round(totalmalePV / gender_count[0], 2))\n",
    "#Average Purchase Total per Person by Females\n",
    "avgfemaleTotal = (round(totalfemalePV / gender_count[1], 2))\n",
    "#Average Purchase Total per Person by Non-Disclosed\n",
    "avgnon_disclosedTotal = (round(totalNDPV / gender_count[2], 2))\n",
    "\n",
    "\n",
    "#new summary dataframe for table \n",
    "avgpurchases = [avgmalepurchases, avgfemalepurchases, avgNDpurchases]\n",
    "totalPV = [totalmalePV, totalfemalePV, totalNDPV]\n",
    "avgpurchasetotal = [avgmaleTotal, avgfemaleTotal, avgnon_disclosedTotal]\n",
    "totaldata_df = pd.DataFrame({\"Purchase Count\": gender_info, \"Average Purchase Price\": avgpurchases, \"Total Purchase Value\": totalPV, \"Avg Total Purchase per Person\": avgpurchasetotal})\n",
    "totaldata_df[\"Average Purchase Price\"] = totaldata_df[\"Average Purchase Price\"].map(\"${: .2f}\".format)\n",
    "totaldata_df[\"Total Purchase Value\"] = totaldata_df[\"Total Purchase Value\"].map(\"${: .2f}\".format)\n",
    "totaldata_df[\"Avg Total Purchase per Person\"] = totaldata_df[\"Avg Total Purchase per Person\"].map(\"${: .2f}\".format)\n",
    "totaldata_df"
   ]
  },
  {
   "source": [
    "## Age Demographics\n",
    "\n",
    "### The below each broken into bins of 4 years (i.e. <10, 10-14, 15-19, etc.)\n",
    "\n",
    "* Purchase Count\n",
    "* Average Purchase Price\n",
    "* Total Purchase Value\n",
    "* Average Purchase Total per Person by Age Group"
   ],
   "cell_type": "markdown",
   "metadata": {}
  },
  {
   "cell_type": "code",
   "execution_count": null,
   "metadata": {},
   "outputs": [],
   "source": [
    "#create bins for ages \n",
    "bins = [0, 9, 14, 19, 24, 29, 34, 39, 100]\n",
    "\n",
    "#create labels for each bin \n",
    "grouplabels = [\"<10\", \"10-14\", \"15-19\", \"20-24\", \"25-29\", \"30-34\", \"35-39\", \"40+\"]\n",
    "\n",
    "#use dataframe without duplicates and slice data \n",
    "nodup_df = data_df.drop_duplicates(subset=\"SN\")\n",
    "nodup = pd.cut(nodup_df[\"Age\"], bins, labels=grouplabels)\n",
    "nodup.value_counts()\n",
    "\n",
    "#new dataframe\n",
    "nodup2_df = pd.DataFrame({\"Age Groups\": nodup.value_counts()})\n",
    "\n",
    "#Percentage of Players by Age Group\n",
    "nodup2_df[\"Percentage of Players\"] = nodup2_df[\"Age Groups\"] / nodup2_df[\"Age Groups\"].sum()\n",
    "\n",
    "#Format\n",
    "nodup2_df[\"Percentage of Players\"] = nodup2_df[\"Percentage of Players\"].map(\"{:.2%}\".format)\n",
    "nodup2_df.sort_index()\n",
    "\n",
    "\n",
    "\n",
    "\n"
   ]
  },
  {
   "cell_type": "code",
   "execution_count": null,
   "metadata": {},
   "outputs": [],
   "source": [
    "\n",
    "#Purchase Count by Age \n",
    "data_df[\"Age Groups\"] = pd.cut(data_df[\"Age\"], bins, labels=grouplabels)\n",
    "purchasecount = data_df[\"Age Groups\"].value_counts().sort_index()\n",
    "purchasecount\n",
    "\n",
    "\n",
    "#Average Purchase Price by Age Group \n",
    "group1 = (round(data_df.loc[data_df[\"Age Groups\"] == \"<10\", \"Price\"].sum() / purchasecount[\"<10\"], 2))\n",
    "group2 = (round(data_df.loc[data_df[\"Age Groups\"] == \"10-14\", \"Price\"].sum() / purchasecount[\"10-14\"], 2))\n",
    "group3 = (round(data_df.loc[data_df[\"Age Groups\"] == \"15-19\", \"Price\"].sum() / purchasecount[\"15-19\"], 2))\n",
    "group4 = (round(data_df.loc[data_df[\"Age Groups\"] == \"20-24\", \"Price\"].sum() / purchasecount[\"20-24\"], 2))\n",
    "group5 = (round(data_df.loc[data_df[\"Age Groups\"] == \"25-29\", \"Price\"].sum() / purchasecount[\"25-29\"], 2))\n",
    "group6 = (round(data_df.loc[data_df[\"Age Groups\"] == \"30-34\", \"Price\"].sum() / purchasecount[\"30-34\"], 2))\n",
    "group7 = (round(data_df.loc[data_df[\"Age Groups\"] == \"35-39\", \"Price\"].sum() / purchasecount[\"35-39\"], 2))\n",
    "group8 = (round(data_df.loc[data_df[\"Age Groups\"] == \"40+\", \"Price\"].sum() / purchasecount[\"40+\"], 2))\n",
    "\n",
    "#Total Purchase Value by Age Group \n",
    "totalgroup1 = (round(data_df.loc[data_df[\"Age Groups\"] == \"<10\", \"Price\"].sum(), 2))\n",
    "totalgroup2 = (round(data_df.loc[data_df[\"Age Groups\"] == \"10-14\", \"Price\"].sum(), 2))\n",
    "totalgroup3 = (round(data_df.loc[data_df[\"Age Groups\"] == \"15-19\", \"Price\"].sum(), 2))\n",
    "totalgroup4 = (round(data_df.loc[data_df[\"Age Groups\"] == \"20-24\", \"Price\"].sum(), 2))\n",
    "totalgroup5 = (round(data_df.loc[data_df[\"Age Groups\"] == \"25-29\", \"Price\"].sum(), 2))\n",
    "totalgroup6 = (round(data_df.loc[data_df[\"Age Groups\"] == \"30-34\", \"Price\"].sum(), 2))\n",
    "totalgroup7 = (round(data_df.loc[data_df[\"Age Groups\"] == \"35-39\", \"Price\"].sum(), 2))\n",
    "totalgroup8 = (round(data_df.loc[data_df[\"Age Groups\"] == \"40+\", \"Price\"].sum(), 2))\n",
    "\n",
    "#Average Total Purchase per Person\n",
    "avggrouptotal1 = (round(totalgroup1 / nodup.value_counts().sort_index()[0], 2))\n",
    "avggrouptotal2 = (round(totalgroup1 / nodup.value_counts().sort_index()[1], 2))\n",
    "avggrouptotal3 = (round(totalgroup1 / nodup.value_counts().sort_index()[2], 2))\n",
    "avggrouptotal4 = (round(totalgroup1 / nodup.value_counts().sort_index()[3], 2))\n",
    "avggrouptotal5 = (round(totalgroup1 / nodup.value_counts().sort_index()[4], 2))\n",
    "avggrouptotal6 = (round(totalgroup1 / nodup.value_counts().sort_index()[5], 2))\n",
    "avggrouptotal7 = (round(totalgroup1 / nodup.value_counts().sort_index()[6], 2))\n",
    "avggrouptotal8 = (round(totalgroup1 / nodup.value_counts().sort_index()[7], 2))\n",
    "\n",
    "\n",
    "#new summary dataframe for table \n",
    "avgagePP= [group1, group2, group3, group4, group5, group6, group7, group8]\n",
    "totalagePV = [totalgroup1, totalgroup2, totalgroup3, totalgroup4, totalgroup5, totalgroup6, totalgroup7, totalgroup8]\n",
    "avgtotalage = [avggrouptotal1, avggrouptotal2, avggrouptotal3, avggrouptotal4, avggrouptotal5, avggrouptotal6, avggrouptotal7, avggrouptotal8]\n",
    "agedata1_df = pd.DataFrame({\"Purchase Count\": purchasecount, \"Average Purchase Price\": avgagePP, \"Total Purchase Value\": totalagePV, \"Avg Total Purchase per Person\": avgtotalage})\n",
    "agedata1_df[\"Average Purchase Price\"] = agedata1_df[\"Average Purchase Price\"].map(\"${: .2f}\".format)\n",
    "agedata1_df[\"Total Purchase Value\"] = agedata1_df[\"Total Purchase Value\"].map(\"${: .2f}\".format)\n",
    "agedata1_df[\"Avg Total Purchase per Person\"] = agedata1_df[\"Avg Total Purchase per Person\"].map(\"${: .2f}\".format)\n",
    "agedata1_df.index = agedata1_df.index.rename(\"Age Range\")\n",
    "agedata1_df\n",
    "\n"
   ]
  },
  {
   "source": [
    "## Top Spenders\n",
    "\n",
    "### Identify the the top 5 spenders in the game by total purchase value, then list (in a table):\n",
    "\n",
    "* SN\n",
    "* Purchase Count\n",
    "* Average Purchase Price\n",
    "* Total Purchase Value"
   ],
   "cell_type": "markdown",
   "metadata": {}
  },
  {
   "cell_type": "code",
   "execution_count": 161,
   "metadata": {},
   "outputs": [
    {
     "output_type": "execute_result",
     "data": {
      "text/plain": [
       "             Purchase Count Average Purchase Price Total Purchase Value\n",
       "Player Name                                                            \n",
       "Lisosia93                 5                 $ 3.79              $ 18.96\n",
       "Idastidru52               4                 $ 3.86              $ 15.45\n",
       "Chamjask73                3                 $ 4.61              $ 13.83\n",
       "Iral74                    4                 $ 3.40              $ 13.62\n",
       "Iskadarya95               3                 $ 4.37              $ 13.10\n",
       "...                     ...                    ...                  ...\n",
       "Eudanu84                  1                 $ 1.02               $ 1.02\n",
       "Ililsasya43               1                 $ 1.02               $ 1.02\n",
       "Aidai61                   1                 $ 1.01               $ 1.01\n",
       "Chanirra79                1                 $ 1.01               $ 1.01\n",
       "Alo38                     1                 $ 1.00               $ 1.00\n",
       "\n",
       "[576 rows x 3 columns]"
      ],
      "text/html": "<div>\n<style scoped>\n    .dataframe tbody tr th:only-of-type {\n        vertical-align: middle;\n    }\n\n    .dataframe tbody tr th {\n        vertical-align: top;\n    }\n\n    .dataframe thead th {\n        text-align: right;\n    }\n</style>\n<table border=\"1\" class=\"dataframe\">\n  <thead>\n    <tr style=\"text-align: right;\">\n      <th></th>\n      <th>Purchase Count</th>\n      <th>Average Purchase Price</th>\n      <th>Total Purchase Value</th>\n    </tr>\n    <tr>\n      <th>Player Name</th>\n      <th></th>\n      <th></th>\n      <th></th>\n    </tr>\n  </thead>\n  <tbody>\n    <tr>\n      <th>Lisosia93</th>\n      <td>5</td>\n      <td>$ 3.79</td>\n      <td>$ 18.96</td>\n    </tr>\n    <tr>\n      <th>Idastidru52</th>\n      <td>4</td>\n      <td>$ 3.86</td>\n      <td>$ 15.45</td>\n    </tr>\n    <tr>\n      <th>Chamjask73</th>\n      <td>3</td>\n      <td>$ 4.61</td>\n      <td>$ 13.83</td>\n    </tr>\n    <tr>\n      <th>Iral74</th>\n      <td>4</td>\n      <td>$ 3.40</td>\n      <td>$ 13.62</td>\n    </tr>\n    <tr>\n      <th>Iskadarya95</th>\n      <td>3</td>\n      <td>$ 4.37</td>\n      <td>$ 13.10</td>\n    </tr>\n    <tr>\n      <th>...</th>\n      <td>...</td>\n      <td>...</td>\n      <td>...</td>\n    </tr>\n    <tr>\n      <th>Eudanu84</th>\n      <td>1</td>\n      <td>$ 1.02</td>\n      <td>$ 1.02</td>\n    </tr>\n    <tr>\n      <th>Ililsasya43</th>\n      <td>1</td>\n      <td>$ 1.02</td>\n      <td>$ 1.02</td>\n    </tr>\n    <tr>\n      <th>Aidai61</th>\n      <td>1</td>\n      <td>$ 1.01</td>\n      <td>$ 1.01</td>\n    </tr>\n    <tr>\n      <th>Chanirra79</th>\n      <td>1</td>\n      <td>$ 1.01</td>\n      <td>$ 1.01</td>\n    </tr>\n    <tr>\n      <th>Alo38</th>\n      <td>1</td>\n      <td>$ 1.00</td>\n      <td>$ 1.00</td>\n    </tr>\n  </tbody>\n</table>\n<p>576 rows × 3 columns</p>\n</div>"
     },
     "metadata": {},
     "execution_count": 161
    }
   ],
   "source": [
    "#Number of Purchases of Each Player\n",
    "topspendercount = data_df[\"SN\"].value_counts()\n",
    "topspendercount \n",
    "\n",
    "#Total Purchase Value of Each Player \n",
    "topspenderPV = [round(data_df.loc[data_df[\"SN\"] == player, \"Price\"].sum(), 2) for player in topspendercount.index]\n",
    "topspenderPV\n",
    "\n",
    "#Average Purchase Price Per Player \n",
    "avgPP = [round(topspenderPV[i] / topspendercount[i], 2) for i in range(len(topspendercount))]\n",
    "avgPP\n",
    "\n",
    "#new summary dataframe for table \n",
    "topspenders_df = pd.DataFrame({\"Purchase Count\": topspendercount, \"Average Purchase Price\": avgPP, \"Total Purchase Value\": topspenderPV})\n",
    "sortval = topspenders_df.sort_values(\"Total Purchase Value\", ascending=False)\n",
    "sortval[\"Average Purchase Price\"] = sortval[\"Average Purchase Price\"].map(\"${: .2f}\".format)\n",
    "sortval[\"Total Purchase Value\"] = sortval[\"Total Purchase Value\"].map(\"${: .2f}\".format)\n",
    "sortval.index = sortval.index.rename(\"Player Name\")\n",
    "sortval\n"
   ]
  },
  {
   "source": [
    "## Most Popular Items\n",
    "\n",
    "### Identify the 5 most popular items by purchase count, then list (in a table):\n",
    "\n",
    "* Item ID\n",
    "* Item Name\n",
    "* Purchase Count\n",
    "* Item Price\n",
    "* Total Purchase Value"
   ],
   "cell_type": "markdown",
   "metadata": {}
  },
  {
   "cell_type": "code",
   "execution_count": 195,
   "metadata": {},
   "outputs": [
    {
     "output_type": "execute_result",
     "data": {
      "text/plain": [
       "                                                      Purchase Count  \\\n",
       "Item ID Item Name                                                      \n",
       "92      Final Critic                                              13   \n",
       "178     Oathbreaker, Last Hope of the Breaking Storm              12   \n",
       "145     Fiery Glass Crusader                                       9   \n",
       "132     Persuasion                                                 9   \n",
       "108     Extraction, Quickblade Of Trembling Hands                  9   \n",
       "\n",
       "                                                     Average Item Price  \\\n",
       "Item ID Item Name                                                         \n",
       "92      Final Critic                                             $ 4.61   \n",
       "178     Oathbreaker, Last Hope of the Breaking Storm             $ 4.23   \n",
       "145     Fiery Glass Crusader                                     $ 4.58   \n",
       "132     Persuasion                                               $ 3.22   \n",
       "108     Extraction, Quickblade Of Trembling Hands                $ 3.53   \n",
       "\n",
       "                                                     Total Purchase Value  \n",
       "Item ID Item Name                                                          \n",
       "92      Final Critic                                              $ 59.99  \n",
       "178     Oathbreaker, Last Hope of the Breaking Storm              $ 50.76  \n",
       "145     Fiery Glass Crusader                                      $ 41.22  \n",
       "132     Persuasion                                                $ 28.99  \n",
       "108     Extraction, Quickblade Of Trembling Hands                 $ 31.77  "
      ],
      "text/html": "<div>\n<style scoped>\n    .dataframe tbody tr th:only-of-type {\n        vertical-align: middle;\n    }\n\n    .dataframe tbody tr th {\n        vertical-align: top;\n    }\n\n    .dataframe thead th {\n        text-align: right;\n    }\n</style>\n<table border=\"1\" class=\"dataframe\">\n  <thead>\n    <tr style=\"text-align: right;\">\n      <th></th>\n      <th></th>\n      <th>Purchase Count</th>\n      <th>Average Item Price</th>\n      <th>Total Purchase Value</th>\n    </tr>\n    <tr>\n      <th>Item ID</th>\n      <th>Item Name</th>\n      <th></th>\n      <th></th>\n      <th></th>\n    </tr>\n  </thead>\n  <tbody>\n    <tr>\n      <th>92</th>\n      <th>Final Critic</th>\n      <td>13</td>\n      <td>$ 4.61</td>\n      <td>$ 59.99</td>\n    </tr>\n    <tr>\n      <th>178</th>\n      <th>Oathbreaker, Last Hope of the Breaking Storm</th>\n      <td>12</td>\n      <td>$ 4.23</td>\n      <td>$ 50.76</td>\n    </tr>\n    <tr>\n      <th>145</th>\n      <th>Fiery Glass Crusader</th>\n      <td>9</td>\n      <td>$ 4.58</td>\n      <td>$ 41.22</td>\n    </tr>\n    <tr>\n      <th>132</th>\n      <th>Persuasion</th>\n      <td>9</td>\n      <td>$ 3.22</td>\n      <td>$ 28.99</td>\n    </tr>\n    <tr>\n      <th>108</th>\n      <th>Extraction, Quickblade Of Trembling Hands</th>\n      <td>9</td>\n      <td>$ 3.53</td>\n      <td>$ 31.77</td>\n    </tr>\n  </tbody>\n</table>\n</div>"
     },
     "metadata": {},
     "execution_count": 195
    }
   ],
   "source": [
    "# Retrieve the Item ID, Item Name, and Item Price columns\n",
    "popitems = data_df[[\"Item ID\", \"Item Name\", \"Price\"]]\n",
    "\n",
    "#Group by Item ID and Item Name. \n",
    "grouped = popitems_df.groupby([\"Item ID\", \"Item Name\"])\n",
    "\n",
    "#Purchase Count for Each Item\n",
    "topitemcount = grouped[\"Item Name\"].count()\n",
    "#Check if correct by seeing in decending order\n",
    "#topitemcount2 = topitemcount.sort_values(ascending=False)\n",
    "#topitemcount2\n",
    "\n",
    "#Total Purchase Value of Each Item\n",
    "topitemPV = grouped[\"Price\"].sum()\n",
    "\n",
    "#Average Item Price for Each Item\n",
    "avgtopprice = grouped[\"Price\"].mean()\n",
    "\n",
    "#New summary dataframe for table \n",
    "mostpopitems_df = pd.DataFrame({\"Purchase Count\": topitemcount, \"Average Item Price\": avgtopprice, \"Total Purchase Value\": topitemPV})\n",
    "sort = mostpopitems_df.sort_values(\"Purchase Count\", ascending=False)\n",
    "sort[\"Average Item Price\"] = sort[\"Average Item Price\"].map(\"${: .2f}\".format)\n",
    "sort[\"Total Purchase Value\"] = sort[\"Total Purchase Value\"].map(\"${: .2f}\".format)\n",
    "sort.head()\n"
   ]
  },
  {
   "source": [
    "## Most Profitable Items\n",
    "\n",
    "### Identify the 5 most profitable items by total purchase value, then list (in a table):\n",
    "\n",
    "* Item ID\n",
    "* Item Name\n",
    "* Purchase Count\n",
    "* Item Price\n",
    "* Total Purchase Value"
   ],
   "cell_type": "markdown",
   "metadata": {}
  },
  {
   "cell_type": "code",
   "execution_count": 194,
   "metadata": {},
   "outputs": [
    {
     "output_type": "execute_result",
     "data": {
      "text/plain": [
       "                                                      Purchase Count  \\\n",
       "Item ID Item Name                                                      \n",
       "92      Final Critic                                              13   \n",
       "178     Oathbreaker, Last Hope of the Breaking Storm              12   \n",
       "82      Nirvana                                                    9   \n",
       "145     Fiery Glass Crusader                                       9   \n",
       "103     Singed Scalpel                                             8   \n",
       "\n",
       "                                                     Average Item Price  \\\n",
       "Item ID Item Name                                                         \n",
       "92      Final Critic                                             $ 4.61   \n",
       "178     Oathbreaker, Last Hope of the Breaking Storm             $ 4.23   \n",
       "82      Nirvana                                                  $ 4.90   \n",
       "145     Fiery Glass Crusader                                     $ 4.58   \n",
       "103     Singed Scalpel                                           $ 4.35   \n",
       "\n",
       "                                                     Total Purchase Value  \n",
       "Item ID Item Name                                                          \n",
       "92      Final Critic                                              $ 59.99  \n",
       "178     Oathbreaker, Last Hope of the Breaking Storm              $ 50.76  \n",
       "82      Nirvana                                                   $ 44.10  \n",
       "145     Fiery Glass Crusader                                      $ 41.22  \n",
       "103     Singed Scalpel                                            $ 34.80  "
      ],
      "text/html": "<div>\n<style scoped>\n    .dataframe tbody tr th:only-of-type {\n        vertical-align: middle;\n    }\n\n    .dataframe tbody tr th {\n        vertical-align: top;\n    }\n\n    .dataframe thead th {\n        text-align: right;\n    }\n</style>\n<table border=\"1\" class=\"dataframe\">\n  <thead>\n    <tr style=\"text-align: right;\">\n      <th></th>\n      <th></th>\n      <th>Purchase Count</th>\n      <th>Average Item Price</th>\n      <th>Total Purchase Value</th>\n    </tr>\n    <tr>\n      <th>Item ID</th>\n      <th>Item Name</th>\n      <th></th>\n      <th></th>\n      <th></th>\n    </tr>\n  </thead>\n  <tbody>\n    <tr>\n      <th>92</th>\n      <th>Final Critic</th>\n      <td>13</td>\n      <td>$ 4.61</td>\n      <td>$ 59.99</td>\n    </tr>\n    <tr>\n      <th>178</th>\n      <th>Oathbreaker, Last Hope of the Breaking Storm</th>\n      <td>12</td>\n      <td>$ 4.23</td>\n      <td>$ 50.76</td>\n    </tr>\n    <tr>\n      <th>82</th>\n      <th>Nirvana</th>\n      <td>9</td>\n      <td>$ 4.90</td>\n      <td>$ 44.10</td>\n    </tr>\n    <tr>\n      <th>145</th>\n      <th>Fiery Glass Crusader</th>\n      <td>9</td>\n      <td>$ 4.58</td>\n      <td>$ 41.22</td>\n    </tr>\n    <tr>\n      <th>103</th>\n      <th>Singed Scalpel</th>\n      <td>8</td>\n      <td>$ 4.35</td>\n      <td>$ 34.80</td>\n    </tr>\n  </tbody>\n</table>\n</div>"
     },
     "metadata": {},
     "execution_count": 194
    }
   ],
   "source": [
    "#Sort the above table by total purchase value in descending order\n",
    "sort2 = mostpopitems_df.sort_values(\"Total Purchase Value\", ascending=False)\n",
    "sort2[\"Average Item Price\"] = sort2[\"Average Item Price\"].map(\"${: .2f}\".format)\n",
    "sort2[\"Total Purchase Value\"] = sort2[\"Total Purchase Value\"].map(\"${: .2f}\".format)\n",
    "sort2.head()\n"
   ]
  },
  {
   "cell_type": "code",
   "execution_count": null,
   "metadata": {},
   "outputs": [],
   "source": []
  }
 ]
}